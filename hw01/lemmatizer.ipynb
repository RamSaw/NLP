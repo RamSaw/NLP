{
 "cells": [
  {
   "cell_type": "code",
   "execution_count": 1,
   "metadata": {},
   "outputs": [],
   "source": [
    "DICT_FILEPATH = './data/dict.opcorpora.xml'\n",
    "\n",
    "import xml.etree.ElementTree as ET\n",
    "root = ET.parse(DICT_FILEPATH).getroot()"
   ]
  },
  {
   "cell_type": "code",
   "execution_count": 103,
   "metadata": {},
   "outputs": [],
   "source": [
    "CORPUS_FILEPATH = './data/annot.opcorpora.no_ambig.xml'\n",
    "corpus_root = ET.parse(CORPUS_FILEPATH).getroot()"
   ]
  },
  {
   "cell_type": "code",
   "execution_count": 64,
   "metadata": {},
   "outputs": [
    {
     "name": "stdout",
     "output_type": "stream",
     "text": [
      "391243\n",
      "3058733\n",
      "380317\n",
      "{'стекло', 'стёк'}\n",
      "S\n",
      "V\n"
     ]
    }
   ],
   "source": [
    "from collections import defaultdict\n",
    "\n",
    "def canonicalize_tag_name(tag_name):\n",
    "    if tag_name in ['ADJF', 'ADJS', 'COMP']:\n",
    "        return 'A'\n",
    "    elif tag_name in ['NOUN']:\n",
    "        return 'S'\n",
    "    elif tag_name in ['VERB', 'INFN', 'PRTF', 'PRTS', 'GRND']:\n",
    "        return 'V'\n",
    "    elif tag_name in ['ADVB', 'PRCL', 'INTJ']:\n",
    "        return 'ADV'\n",
    "    elif tag_name in ['PREP']:\n",
    "        return 'PR'\n",
    "    elif tag_name in ['CONJ']:\n",
    "        return 'CONJ'\n",
    "    return tag_name\n",
    "\n",
    "lemmas = root.findall('lemmata/lemma')\n",
    "transformed_to_main = defaultdict(set)\n",
    "main_to_tag = defaultdict(lambda: \"NI\")\n",
    "print(len(lemmas))\n",
    "for lemma in lemmas:\n",
    "    main_form = lemma[0].get('t')\n",
    "    main_to_tag[main_form] = canonicalize_tag_name(lemma[0][0].get('v'))\n",
    "    for f in lemma[1:]:\n",
    "        transformed = f.get('t')\n",
    "        transformed_to_main[transformed].add(main_form)\n",
    "print(len(transformed_to_main))\n",
    "print(len(main_to_tag))\n",
    "test_word = 'стекло'\n",
    "print(transformed_to_main[test_word])\n",
    "for main_form in transformed_to_main[test_word]:\n",
    "    print(main_to_tag[main_form])"
   ]
  },
  {
   "cell_type": "code",
   "execution_count": 119,
   "metadata": {},
   "outputs": [
    {
     "name": "stdout",
     "output_type": "stream",
     "text": [
      "92983\n"
     ]
    }
   ],
   "source": [
    "tokens = corpus_root.findall('./text/paragraphs/paragraph/sentence/tokens/token')\n",
    "print(len(tokens))"
   ]
  },
  {
   "cell_type": "code",
   "execution_count": 98,
   "metadata": {},
   "outputs": [],
   "source": [
    "import numpy as np\n",
    "\n",
    "def get_best_main_form(main_forms):\n",
    "    if len(main_forms) == 0:\n",
    "        return None\n",
    "    return list(main_forms)[np.random.choice(len(main_forms), 1)[0]]\n",
    "\n",
    "def proccess_test(test_filepath, output_filepath):\n",
    "    with open(test_filepath) as test_file, open(output_filepath, 'w') as output_file:\n",
    "        lines_to_write = proccess_testfile(test_file)\n",
    "        print(len(lines_to_write))\n",
    "        output_file.write('\\n'.join(lines_to_write))\n",
    "\n",
    "def proccess_testfile(test_file):\n",
    "    lines_to_write = []\n",
    "    for sentence in test_file:\n",
    "        words = sentence.replace(',', '').replace('.', '').replace('?', '').replace('!', '').replace('\\n', '').split(' ')\n",
    "        preproccessed_words = [word.lower() for word in words]\n",
    "        words_lemmatization = []\n",
    "        for word in preproccessed_words:\n",
    "            main_forms = transformed_to_main[word]\n",
    "            main_form = get_best_main_form(main_forms)\n",
    "            if main_form is None:\n",
    "                main_form = word\n",
    "            tag = main_to_tag[main_form]\n",
    "            words_lemmatization.append((main_form, tag))\n",
    "        line_to_write = ' '.join([word + '{' + word_lemmatization[0] + '=' + word_lemmatization[1] + '}' for word, word_lemmatization in zip(words, words_lemmatization)])\n",
    "        lines_to_write.append(line_to_write)\n",
    "    return lines_to_write"
   ]
  },
  {
   "cell_type": "code",
   "execution_count": 99,
   "metadata": {},
   "outputs": [
    {
     "name": "stdout",
     "output_type": "stream",
     "text": [
      "False\n",
      "\n",
      "RESULT\n",
      "Стала{стал=V} стабильнее{стабильнее=A} экономическая{экономический=A} и{и=S} политическая{политический=A} обстановка{обстановка=S} предприятия{предприятие=S} вывели{вывел=V} из{из=PR} тени{теню=V} зарплаты{зарплата=S} сотрудников{сотрудник=S}\n",
      "Все{весь=S} Гришины{гришины=S} одноклассники{одноклассник=S} уже{уж=S} побывали{побывал=V} за{за=PR} границей{граница=S} он{он=NPRO} был{есть=V} чуть{чуть=CONJ} ли{ли=S} не{не=ADV} единственным{единственный=A} кого{кто=NPRO} не{не=ADV} вывозили{вывожу=V} никуда{никуда=ADV} дальше{дальше=A} Красной{красная=S} Пахры{пахра=S}\n",
      "\n",
      "EXPECTED\n",
      "Стала{стать=V} стабильнее{стабильный=A} экономическая{экономический=A} и{и=CONJ} политическая{политический=A} обстановка{обстановка=S} предприятия{предприятие=S} вывели{вывести=V} из{из=PR} тени{тень=S} зарплаты{зарплата=S} сотрудников{сотрудник=S}\n",
      "Все{весь=NI} Гришины{гришин=A} одноклассники{одноклассник=S} уже{уже=ADV} побывали{побывать=V} за{за=PR} границей{граница=S} он{он=NI} был{быть=V} чуть{чуть=ADV} ли{ли=ADV} не{не=ADV} единственным{единственный=A} кого{кто=NI} не{не=ADV} вывозили{вывозить=V} никуда{никуда=NI} дальше{далеко=ADV} Красной{красный=A} Пахры{Пахра=S}\n"
     ]
    }
   ],
   "source": [
    "golden_test = ['Стала стабильнее экономическая и политическая обстановка, предприятия вывели из тени зарплаты сотрудников.\\n',\n",
    "               'Все Гришины одноклассники уже побывали за границей, он был чуть ли не единственным, кого не вывозили никуда дальше Красной Пахры.']\n",
    "correct_result = \"\"\"Стала{стать=V} стабильнее{стабильный=A} экономическая{экономический=A} и{и=CONJ} политическая{политический=A} обстановка{обстановка=S} предприятия{предприятие=S} вывели{вывести=V} из{из=PR} тени{тень=S} зарплаты{зарплата=S} сотрудников{сотрудник=S}\n",
    "Все{весь=NI} Гришины{гришин=A} одноклассники{одноклассник=S} уже{уже=ADV} побывали{побывать=V} за{за=PR} границей{граница=S} он{он=NI} был{быть=V} чуть{чуть=ADV} ли{ли=ADV} не{не=ADV} единственным{единственный=A} кого{кто=NI} не{не=ADV} вывозили{вывозить=V} никуда{никуда=NI} дальше{далеко=ADV} Красной{красный=A} Пахры{Пахра=S}\"\"\"\n",
    "result = '\\n'.join(proccess_testfile(golden_test))\n",
    "print(correct_result == result)\n",
    "print()\n",
    "print(\"RESULT\")\n",
    "print(result)\n",
    "print()\n",
    "print(\"EXPECTED\")\n",
    "print(correct_result)"
   ]
  },
  {
   "cell_type": "code",
   "execution_count": 100,
   "metadata": {},
   "outputs": [
    {
     "name": "stdout",
     "output_type": "stream",
     "text": [
      "{'стал'}\n",
      "{'стабильнее'}\n"
     ]
    }
   ],
   "source": [
    "print(transformed_to_main['стала'])\n",
    "print(transformed_to_main['стабильнее'])"
   ]
  },
  {
   "cell_type": "code",
   "execution_count": 102,
   "metadata": {},
   "outputs": [
    {
     "name": "stdout",
     "output_type": "stream",
     "text": [
      "200\n"
     ]
    }
   ],
   "source": [
    "TEST_FILEPATH = './data/test.txt'\n",
    "OUTPUT_FILEPATH = './data/output.txt'\n",
    "\n",
    "proccess_test(TEST_FILEPATH, OUTPUT_FILEPATH)"
   ]
  },
  {
   "cell_type": "code",
   "execution_count": null,
   "metadata": {},
   "outputs": [],
   "source": []
  }
 ],
 "metadata": {
  "kernelspec": {
   "display_name": "Python 3",
   "language": "python",
   "name": "python3"
  },
  "language_info": {
   "codemirror_mode": {
    "name": "ipython",
    "version": 3
   },
   "file_extension": ".py",
   "mimetype": "text/x-python",
   "name": "python",
   "nbconvert_exporter": "python",
   "pygments_lexer": "ipython3",
   "version": "3.7.4"
  }
 },
 "nbformat": 4,
 "nbformat_minor": 2
}
