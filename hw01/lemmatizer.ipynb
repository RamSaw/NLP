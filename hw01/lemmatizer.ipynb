{
 "cells": [
  {
   "cell_type": "code",
   "execution_count": 1,
   "metadata": {},
   "outputs": [],
   "source": [
    "DICT_FILEPATH = './data/dict.opcorpora.xml'\n",
    "\n",
    "import xml.etree.ElementTree as ET\n",
    "root = ET.parse(DICT_FILEPATH).getroot()"
   ]
  },
  {
   "cell_type": "code",
   "execution_count": 103,
   "metadata": {},
   "outputs": [],
   "source": [
    "CORPUS_FILEPATH = './data/annot.opcorpora.no_ambig.xml'\n",
    "corpus_root = ET.parse(CORPUS_FILEPATH).getroot()"
   ]
  },
  {
   "cell_type": "code",
   "execution_count": 245,
   "metadata": {},
   "outputs": [
    {
     "name": "stdout",
     "output_type": "stream",
     "text": [
      "391243\n",
      "3058733\n",
      "{('стекло', 'S'), ('стечь', 'V')}\n"
     ]
    }
   ],
   "source": [
    "from collections import defaultdict\n",
    "\n",
    "def canonicalize_tag_name(tag_name):\n",
    "    if tag_name in ['ADJF', 'ADJS', 'COMP']:\n",
    "        return 'A'\n",
    "    elif tag_name in ['NOUN']:\n",
    "        return 'S'\n",
    "    elif tag_name in ['VERB', 'INFN', 'PRTF', 'PRTS', 'GRND']:\n",
    "        return 'V'\n",
    "    elif tag_name in ['ADVB', 'PRCL', 'INTJ', 'PRED']:\n",
    "        return 'ADV'\n",
    "    elif tag_name in ['PREP']:\n",
    "        return 'PR'\n",
    "    elif tag_name in ['CONJ']:\n",
    "        return 'CONJ'\n",
    "    return tag_name\n",
    "\n",
    "lemmas = root.findall('lemmata/lemma')\n",
    "links = root.findall('links/link')\n",
    "base_lemmas_id = defaultdict()\n",
    "transformed_to_main = defaultdict(set)\n",
    "lemmas_by_id = {}\n",
    "print(len(lemmas))\n",
    "for lemma in lemmas:\n",
    "    base_lemmas_id[lemma.get('id')] = lemma.get('id')\n",
    "    lemmas_by_id[lemma.get('id')] = lemma\n",
    "for link in links:\n",
    "    if link.get('type') == '26':\n",
    "        continue\n",
    "    base_lemmas_id[link.get('to')] = base_lemmas_id[link.get('from')]\n",
    "for lemma in lemmas:\n",
    "    lemma_id = base_lemmas_id[lemma.get('id')]\n",
    "    #print(lemma_id)\n",
    "    main_lemma = lemmas_by_id[lemma_id][0]\n",
    "    main_form = main_lemma.get('t')\n",
    "    tag = canonicalize_tag_name(main_lemma[0].get('v'))\n",
    "    for f in lemma[1:]:\n",
    "        transformed = f.get('t')\n",
    "        transformed_to_main[transformed].add((main_form, tag))\n",
    "print(len(transformed_to_main))\n",
    "test_word = 'стекло'\n",
    "print(transformed_to_main[test_word])"
   ]
  },
  {
   "cell_type": "code",
   "execution_count": 246,
   "metadata": {},
   "outputs": [
    {
     "name": "stdout",
     "output_type": "stream",
     "text": [
      "92983\n",
      "27433\n",
      "defaultdict(<function <lambda>.<locals>.<lambda> at 0x7fd4f68560e0>, {('стекло', 'S'): 2})\n"
     ]
    }
   ],
   "source": [
    "tokens = corpus_root.findall('./text/paragraphs/paragraph/sentence/tokens/token')\n",
    "print(len(tokens))\n",
    "frequencies = defaultdict(lambda: defaultdict(lambda: 1))\n",
    "for token in tokens:\n",
    "    transformed = token[0].get('t').lower()\n",
    "    main = token[0][0][0].get('t')\n",
    "    tag = canonicalize_tag_name(token[0][0][0][0].get('v'))\n",
    "    frequencies[transformed][(main, tag)] += 1\n",
    "print(len(frequencies))\n",
    "print(frequencies['стекло'])"
   ]
  },
  {
   "cell_type": "code",
   "execution_count": 247,
   "metadata": {},
   "outputs": [],
   "source": [
    "import numpy as np\n",
    "\n",
    "def get_best_explanation(transformed):\n",
    "    if transformed in [\"и\", \"а\", \"но\", \"или\", \"чтобы\", \"что\"]:\n",
    "        return transformed, \"CONJ\"\n",
    "\n",
    "    if transformed in [\"по\", \"на\", \"у\", \"за\", \"для\", \"при\", \"через\", \"до\", \"среди\", \"между\", \"возле\"]:\n",
    "        return transformed, \"PR\"\n",
    "\n",
    "    if transformed in [\"не\", \"ни\", \"затем\", \"тогда\", \"итак\", \"наверно\", \"бы\", \"ли\", \"же\", \"вот\", \"только\", \"уже\", \"видимо\", \"потом\"]:\n",
    "        return transformed, \"ADV\"\n",
    "    \n",
    "    if transformed not in transformed_to_main:\n",
    "        if len(transformed) >= 2 and transformed[-2:] == \"ть\":\n",
    "            return transformed, \"V\"\n",
    "        if len(transformed) >= 2 and transformed[-2:] == \"ся\":\n",
    "            return transformed, \"V\"\n",
    "        return transformed, \"ADV\"\n",
    "    \n",
    "    list_of_choices = list(transformed_to_main[transformed])\n",
    "    freqs = frequencies[transformed]\n",
    "    probs = np.array([freqs[choice] for choice in list_of_choices])\n",
    "    probs = probs / sum(probs)\n",
    "    return list_of_choices[np.random.choice(len(probs), 1, p=probs)[0]]\n",
    "\n",
    "def proccess_test(test_filepath, output_filepath):\n",
    "    with open(test_filepath) as test_file, open(output_filepath, 'w') as output_file:\n",
    "        lines_to_write = proccess_testfile(test_file)\n",
    "        print(len(lines_to_write))\n",
    "        output_file.write('\\n'.join(lines_to_write))\n",
    "\n",
    "def proccess_testfile(test_file):\n",
    "    lines_to_write = []\n",
    "    for sentence in test_file:\n",
    "        words = sentence.replace(',', '').replace('.', '').replace('?', '').replace('!', '').replace('\\n', '').split(' ')\n",
    "        preproccessed_words = [word.lower() for word in words]\n",
    "        words_lemmatization = []\n",
    "        for word in preproccessed_words:\n",
    "            main_form, tag = get_best_explanation(word)\n",
    "            words_lemmatization.append((main_form, tag))\n",
    "        line_to_write = ' '.join([word + '{' + word_lemmatization[0] + '=' + word_lemmatization[1] + '}' for word, word_lemmatization in zip(words, words_lemmatization)])\n",
    "        lines_to_write.append(line_to_write)\n",
    "    return lines_to_write"
   ]
  },
  {
   "cell_type": "code",
   "execution_count": 248,
   "metadata": {},
   "outputs": [
    {
     "name": "stdout",
     "output_type": "stream",
     "text": [
      "False\n",
      "\n",
      "RESULT\n",
      "Стала{стать=V} стабильнее{стабильный=A} экономическая{экономический=A} и{и=CONJ} политическая{политический=A} обстановка{обстановка=S} предприятия{предприятие=S} вывели{вывести=V} из{из=PR} тени{тенить=V} зарплаты{зарплата=S} сотрудников{сотрудник=S}\n",
      "Все{весь=A} Гришины{гришин=A} одноклассники{одноклассник=S} уже{уже=ADV} побывали{побывать=V} за{за=PR} границей{граница=S} он{он=NPRO} был{быть=V} чуть{чуть=ADV} ли{ли=ADV} не{не=ADV} единственным{единственный=A} кого{кто=NPRO} не{не=ADV} вывозили{вывозить=V} никуда{никуда=ADV} дальше{далёкий=A} Красной{красный=A} Пахры{пахра=S}\n",
      "\n",
      "EXPECTED\n",
      "Стала{стать=V} стабильнее{стабильный=A} экономическая{экономический=A} и{и=CONJ} политическая{политический=A} обстановка{обстановка=S} предприятия{предприятие=S} вывели{вывести=V} из{из=PR} тени{тень=S} зарплаты{зарплата=S} сотрудников{сотрудник=S}\n",
      "Все{весь=NI} Гришины{гришин=A} одноклассники{одноклассник=S} уже{уже=ADV} побывали{побывать=V} за{за=PR} границей{граница=S} он{он=NI} был{быть=V} чуть{чуть=ADV} ли{ли=ADV} не{не=ADV} единственным{единственный=A} кого{кто=NI} не{не=ADV} вывозили{вывозить=V} никуда{никуда=NI} дальше{далеко=ADV} Красной{красный=A} Пахры{Пахра=S}\n"
     ]
    }
   ],
   "source": [
    "golden_test = ['Стала стабильнее экономическая и политическая обстановка, предприятия вывели из тени зарплаты сотрудников.\\n',\n",
    "               'Все Гришины одноклассники уже побывали за границей, он был чуть ли не единственным, кого не вывозили никуда дальше Красной Пахры.']\n",
    "correct_result = \"\"\"Стала{стать=V} стабильнее{стабильный=A} экономическая{экономический=A} и{и=CONJ} политическая{политический=A} обстановка{обстановка=S} предприятия{предприятие=S} вывели{вывести=V} из{из=PR} тени{тень=S} зарплаты{зарплата=S} сотрудников{сотрудник=S}\n",
    "Все{весь=NI} Гришины{гришин=A} одноклассники{одноклассник=S} уже{уже=ADV} побывали{побывать=V} за{за=PR} границей{граница=S} он{он=NI} был{быть=V} чуть{чуть=ADV} ли{ли=ADV} не{не=ADV} единственным{единственный=A} кого{кто=NI} не{не=ADV} вывозили{вывозить=V} никуда{никуда=NI} дальше{далеко=ADV} Красной{красный=A} Пахры{Пахра=S}\"\"\"\n",
    "result = '\\n'.join(proccess_testfile(golden_test))\n",
    "print(correct_result == result)\n",
    "print()\n",
    "print(\"RESULT\")\n",
    "print(result)\n",
    "print()\n",
    "print(\"EXPECTED\")\n",
    "print(correct_result)"
   ]
  },
  {
   "cell_type": "code",
   "execution_count": 249,
   "metadata": {},
   "outputs": [
    {
     "name": "stdout",
     "output_type": "stream",
     "text": [
      "{('стать', 'V')}\n",
      "{('стабильный', 'A')}\n"
     ]
    }
   ],
   "source": [
    "print(transformed_to_main['стала'])\n",
    "print(transformed_to_main['стабильнее'])"
   ]
  },
  {
   "cell_type": "code",
   "execution_count": 252,
   "metadata": {},
   "outputs": [
    {
     "name": "stdout",
     "output_type": "stream",
     "text": [
      "200\n"
     ]
    }
   ],
   "source": [
    "TEST_FILEPATH = './data/test.txt'\n",
    "OUTPUT_FILEPATH = './data/output.txt'\n",
    "\n",
    "proccess_test(TEST_FILEPATH, OUTPUT_FILEPATH)"
   ]
  },
  {
   "cell_type": "code",
   "execution_count": null,
   "metadata": {},
   "outputs": [],
   "source": []
  }
 ],
 "metadata": {
  "kernelspec": {
   "display_name": "Python 3",
   "language": "python",
   "name": "python3"
  },
  "language_info": {
   "codemirror_mode": {
    "name": "ipython",
    "version": 3
   },
   "file_extension": ".py",
   "mimetype": "text/x-python",
   "name": "python",
   "nbconvert_exporter": "python",
   "pygments_lexer": "ipython3",
   "version": "3.7.4"
  }
 },
 "nbformat": 4,
 "nbformat_minor": 2
}
