{
  "nbformat": 4,
  "nbformat_minor": 0,
  "metadata": {
    "accelerator": "GPU",
    "colab": {
      "name": "HW_04_NLP_LSTM.ipynb",
      "provenance": [],
      "collapsed_sections": [],
      "include_colab_link": true
    },
    "kernelspec": {
      "display_name": "Python 3",
      "language": "python",
      "name": "python3"
    },
    "language_info": {
      "codemirror_mode": {
        "name": "ipython",
        "version": 3
      },
      "file_extension": ".py",
      "mimetype": "text/x-python",
      "name": "python",
      "nbconvert_exporter": "python",
      "pygments_lexer": "ipython3",
      "version": "3.6.7"
    },
    "widgets": {
      "application/vnd.jupyter.widget-state+json": {
        "cfb3ae898c7649bcb858d90f47d634c5": {
          "model_module": "@jupyter-widgets/controls",
          "model_name": "HBoxModel",
          "state": {
            "_view_name": "HBoxView",
            "_dom_classes": [],
            "_model_name": "HBoxModel",
            "_view_module": "@jupyter-widgets/controls",
            "_model_module_version": "1.5.0",
            "_view_count": null,
            "_view_module_version": "1.5.0",
            "box_style": "",
            "layout": "IPY_MODEL_eef787fc107948749addd94646be6eff",
            "_model_module": "@jupyter-widgets/controls",
            "children": [
              "IPY_MODEL_5925be7deecc4f24be77de3eb8e97898",
              "IPY_MODEL_1b5cc299a66340a1a5118e6b91da3a4a"
            ]
          }
        },
        "eef787fc107948749addd94646be6eff": {
          "model_module": "@jupyter-widgets/base",
          "model_name": "LayoutModel",
          "state": {
            "_view_name": "LayoutView",
            "grid_template_rows": null,
            "right": null,
            "justify_content": null,
            "_view_module": "@jupyter-widgets/base",
            "overflow": null,
            "_model_module_version": "1.2.0",
            "_view_count": null,
            "flex_flow": null,
            "width": null,
            "min_width": null,
            "border": null,
            "align_items": null,
            "bottom": null,
            "_model_module": "@jupyter-widgets/base",
            "top": null,
            "grid_column": null,
            "overflow_y": null,
            "overflow_x": null,
            "grid_auto_flow": null,
            "grid_area": null,
            "grid_template_columns": null,
            "flex": null,
            "_model_name": "LayoutModel",
            "justify_items": null,
            "grid_row": null,
            "max_height": null,
            "align_content": null,
            "visibility": null,
            "align_self": null,
            "height": null,
            "min_height": null,
            "padding": null,
            "grid_auto_rows": null,
            "grid_gap": null,
            "max_width": null,
            "order": null,
            "_view_module_version": "1.2.0",
            "grid_template_areas": null,
            "object_position": null,
            "object_fit": null,
            "grid_auto_columns": null,
            "margin": null,
            "display": null,
            "left": null
          }
        },
        "5925be7deecc4f24be77de3eb8e97898": {
          "model_module": "@jupyter-widgets/controls",
          "model_name": "IntProgressModel",
          "state": {
            "_view_name": "ProgressView",
            "style": "IPY_MODEL_76b0b4df72ee4a438099d3d89b1fbd28",
            "_dom_classes": [],
            "description": "",
            "_model_name": "IntProgressModel",
            "bar_style": "success",
            "max": 50359,
            "_view_module": "@jupyter-widgets/controls",
            "_model_module_version": "1.5.0",
            "value": 50359,
            "_view_count": null,
            "_view_module_version": "1.5.0",
            "orientation": "horizontal",
            "min": 0,
            "description_tooltip": null,
            "_model_module": "@jupyter-widgets/controls",
            "layout": "IPY_MODEL_b10449f05a2545c6a1a9dc0d0bbf9fc5"
          }
        },
        "1b5cc299a66340a1a5118e6b91da3a4a": {
          "model_module": "@jupyter-widgets/controls",
          "model_name": "HTMLModel",
          "state": {
            "_view_name": "HTMLView",
            "style": "IPY_MODEL_d4d7342ca846404c9bafc52610369d35",
            "_dom_classes": [],
            "description": "",
            "_model_name": "HTMLModel",
            "placeholder": "​",
            "_view_module": "@jupyter-widgets/controls",
            "_model_module_version": "1.5.0",
            "value": "100% 50359/50359 [03:15&lt;00:00, 257.75it/s]",
            "_view_count": null,
            "_view_module_version": "1.5.0",
            "description_tooltip": null,
            "_model_module": "@jupyter-widgets/controls",
            "layout": "IPY_MODEL_8d31a92d848f4ab1830230853b78bb85"
          }
        },
        "76b0b4df72ee4a438099d3d89b1fbd28": {
          "model_module": "@jupyter-widgets/controls",
          "model_name": "ProgressStyleModel",
          "state": {
            "_view_name": "StyleView",
            "_model_name": "ProgressStyleModel",
            "description_width": "",
            "_view_module": "@jupyter-widgets/base",
            "_model_module_version": "1.5.0",
            "_view_count": null,
            "_view_module_version": "1.2.0",
            "bar_color": null,
            "_model_module": "@jupyter-widgets/controls"
          }
        },
        "b10449f05a2545c6a1a9dc0d0bbf9fc5": {
          "model_module": "@jupyter-widgets/base",
          "model_name": "LayoutModel",
          "state": {
            "_view_name": "LayoutView",
            "grid_template_rows": null,
            "right": null,
            "justify_content": null,
            "_view_module": "@jupyter-widgets/base",
            "overflow": null,
            "_model_module_version": "1.2.0",
            "_view_count": null,
            "flex_flow": null,
            "width": null,
            "min_width": null,
            "border": null,
            "align_items": null,
            "bottom": null,
            "_model_module": "@jupyter-widgets/base",
            "top": null,
            "grid_column": null,
            "overflow_y": null,
            "overflow_x": null,
            "grid_auto_flow": null,
            "grid_area": null,
            "grid_template_columns": null,
            "flex": null,
            "_model_name": "LayoutModel",
            "justify_items": null,
            "grid_row": null,
            "max_height": null,
            "align_content": null,
            "visibility": null,
            "align_self": null,
            "height": null,
            "min_height": null,
            "padding": null,
            "grid_auto_rows": null,
            "grid_gap": null,
            "max_width": null,
            "order": null,
            "_view_module_version": "1.2.0",
            "grid_template_areas": null,
            "object_position": null,
            "object_fit": null,
            "grid_auto_columns": null,
            "margin": null,
            "display": null,
            "left": null
          }
        },
        "d4d7342ca846404c9bafc52610369d35": {
          "model_module": "@jupyter-widgets/controls",
          "model_name": "DescriptionStyleModel",
          "state": {
            "_view_name": "StyleView",
            "_model_name": "DescriptionStyleModel",
            "description_width": "",
            "_view_module": "@jupyter-widgets/base",
            "_model_module_version": "1.5.0",
            "_view_count": null,
            "_view_module_version": "1.2.0",
            "_model_module": "@jupyter-widgets/controls"
          }
        },
        "8d31a92d848f4ab1830230853b78bb85": {
          "model_module": "@jupyter-widgets/base",
          "model_name": "LayoutModel",
          "state": {
            "_view_name": "LayoutView",
            "grid_template_rows": null,
            "right": null,
            "justify_content": null,
            "_view_module": "@jupyter-widgets/base",
            "overflow": null,
            "_model_module_version": "1.2.0",
            "_view_count": null,
            "flex_flow": null,
            "width": null,
            "min_width": null,
            "border": null,
            "align_items": null,
            "bottom": null,
            "_model_module": "@jupyter-widgets/base",
            "top": null,
            "grid_column": null,
            "overflow_y": null,
            "overflow_x": null,
            "grid_auto_flow": null,
            "grid_area": null,
            "grid_template_columns": null,
            "flex": null,
            "_model_name": "LayoutModel",
            "justify_items": null,
            "grid_row": null,
            "max_height": null,
            "align_content": null,
            "visibility": null,
            "align_self": null,
            "height": null,
            "min_height": null,
            "padding": null,
            "grid_auto_rows": null,
            "grid_gap": null,
            "max_width": null,
            "order": null,
            "_view_module_version": "1.2.0",
            "grid_template_areas": null,
            "object_position": null,
            "object_fit": null,
            "grid_auto_columns": null,
            "margin": null,
            "display": null,
            "left": null
          }
        },
        "041331b07f8946919cae77cf71f8535d": {
          "model_module": "@jupyter-widgets/controls",
          "model_name": "HBoxModel",
          "state": {
            "_view_name": "HBoxView",
            "_dom_classes": [],
            "_model_name": "HBoxModel",
            "_view_module": "@jupyter-widgets/controls",
            "_model_module_version": "1.5.0",
            "_view_count": null,
            "_view_module_version": "1.5.0",
            "box_style": "",
            "layout": "IPY_MODEL_3e61f398b99146118d78fd77294a5018",
            "_model_module": "@jupyter-widgets/controls",
            "children": [
              "IPY_MODEL_123835df754248ea9e61e2121dcf0ee4",
              "IPY_MODEL_63d51fb3c59c457a9feeec7f4b7f4bae"
            ]
          }
        },
        "3e61f398b99146118d78fd77294a5018": {
          "model_module": "@jupyter-widgets/base",
          "model_name": "LayoutModel",
          "state": {
            "_view_name": "LayoutView",
            "grid_template_rows": null,
            "right": null,
            "justify_content": null,
            "_view_module": "@jupyter-widgets/base",
            "overflow": null,
            "_model_module_version": "1.2.0",
            "_view_count": null,
            "flex_flow": null,
            "width": null,
            "min_width": null,
            "border": null,
            "align_items": null,
            "bottom": null,
            "_model_module": "@jupyter-widgets/base",
            "top": null,
            "grid_column": null,
            "overflow_y": null,
            "overflow_x": null,
            "grid_auto_flow": null,
            "grid_area": null,
            "grid_template_columns": null,
            "flex": null,
            "_model_name": "LayoutModel",
            "justify_items": null,
            "grid_row": null,
            "max_height": null,
            "align_content": null,
            "visibility": null,
            "align_self": null,
            "height": null,
            "min_height": null,
            "padding": null,
            "grid_auto_rows": null,
            "grid_gap": null,
            "max_width": null,
            "order": null,
            "_view_module_version": "1.2.0",
            "grid_template_areas": null,
            "object_position": null,
            "object_fit": null,
            "grid_auto_columns": null,
            "margin": null,
            "display": null,
            "left": null
          }
        },
        "123835df754248ea9e61e2121dcf0ee4": {
          "model_module": "@jupyter-widgets/controls",
          "model_name": "IntProgressModel",
          "state": {
            "_view_name": "ProgressView",
            "style": "IPY_MODEL_8c161284fe7246a18a5384194b429b54",
            "_dom_classes": [],
            "description": "",
            "_model_name": "IntProgressModel",
            "bar_style": "success",
            "max": 50359,
            "_view_module": "@jupyter-widgets/controls",
            "_model_module_version": "1.5.0",
            "value": 50359,
            "_view_count": null,
            "_view_module_version": "1.5.0",
            "orientation": "horizontal",
            "min": 0,
            "description_tooltip": null,
            "_model_module": "@jupyter-widgets/controls",
            "layout": "IPY_MODEL_0413b08a587242679d03b28e1505edc6"
          }
        },
        "63d51fb3c59c457a9feeec7f4b7f4bae": {
          "model_module": "@jupyter-widgets/controls",
          "model_name": "HTMLModel",
          "state": {
            "_view_name": "HTMLView",
            "style": "IPY_MODEL_bbaf0d72185a4537938d9aadafb59014",
            "_dom_classes": [],
            "description": "",
            "_model_name": "HTMLModel",
            "placeholder": "​",
            "_view_module": "@jupyter-widgets/controls",
            "_model_module_version": "1.5.0",
            "value": "100% 50359/50359 [03:19&lt;00:00, 253.03it/s]",
            "_view_count": null,
            "_view_module_version": "1.5.0",
            "description_tooltip": null,
            "_model_module": "@jupyter-widgets/controls",
            "layout": "IPY_MODEL_6fed10d456f3403083a3bcfd00803808"
          }
        },
        "8c161284fe7246a18a5384194b429b54": {
          "model_module": "@jupyter-widgets/controls",
          "model_name": "ProgressStyleModel",
          "state": {
            "_view_name": "StyleView",
            "_model_name": "ProgressStyleModel",
            "description_width": "",
            "_view_module": "@jupyter-widgets/base",
            "_model_module_version": "1.5.0",
            "_view_count": null,
            "_view_module_version": "1.2.0",
            "bar_color": null,
            "_model_module": "@jupyter-widgets/controls"
          }
        },
        "0413b08a587242679d03b28e1505edc6": {
          "model_module": "@jupyter-widgets/base",
          "model_name": "LayoutModel",
          "state": {
            "_view_name": "LayoutView",
            "grid_template_rows": null,
            "right": null,
            "justify_content": null,
            "_view_module": "@jupyter-widgets/base",
            "overflow": null,
            "_model_module_version": "1.2.0",
            "_view_count": null,
            "flex_flow": null,
            "width": null,
            "min_width": null,
            "border": null,
            "align_items": null,
            "bottom": null,
            "_model_module": "@jupyter-widgets/base",
            "top": null,
            "grid_column": null,
            "overflow_y": null,
            "overflow_x": null,
            "grid_auto_flow": null,
            "grid_area": null,
            "grid_template_columns": null,
            "flex": null,
            "_model_name": "LayoutModel",
            "justify_items": null,
            "grid_row": null,
            "max_height": null,
            "align_content": null,
            "visibility": null,
            "align_self": null,
            "height": null,
            "min_height": null,
            "padding": null,
            "grid_auto_rows": null,
            "grid_gap": null,
            "max_width": null,
            "order": null,
            "_view_module_version": "1.2.0",
            "grid_template_areas": null,
            "object_position": null,
            "object_fit": null,
            "grid_auto_columns": null,
            "margin": null,
            "display": null,
            "left": null
          }
        },
        "bbaf0d72185a4537938d9aadafb59014": {
          "model_module": "@jupyter-widgets/controls",
          "model_name": "DescriptionStyleModel",
          "state": {
            "_view_name": "StyleView",
            "_model_name": "DescriptionStyleModel",
            "description_width": "",
            "_view_module": "@jupyter-widgets/base",
            "_model_module_version": "1.5.0",
            "_view_count": null,
            "_view_module_version": "1.2.0",
            "_model_module": "@jupyter-widgets/controls"
          }
        },
        "6fed10d456f3403083a3bcfd00803808": {
          "model_module": "@jupyter-widgets/base",
          "model_name": "LayoutModel",
          "state": {
            "_view_name": "LayoutView",
            "grid_template_rows": null,
            "right": null,
            "justify_content": null,
            "_view_module": "@jupyter-widgets/base",
            "overflow": null,
            "_model_module_version": "1.2.0",
            "_view_count": null,
            "flex_flow": null,
            "width": null,
            "min_width": null,
            "border": null,
            "align_items": null,
            "bottom": null,
            "_model_module": "@jupyter-widgets/base",
            "top": null,
            "grid_column": null,
            "overflow_y": null,
            "overflow_x": null,
            "grid_auto_flow": null,
            "grid_area": null,
            "grid_template_columns": null,
            "flex": null,
            "_model_name": "LayoutModel",
            "justify_items": null,
            "grid_row": null,
            "max_height": null,
            "align_content": null,
            "visibility": null,
            "align_self": null,
            "height": null,
            "min_height": null,
            "padding": null,
            "grid_auto_rows": null,
            "grid_gap": null,
            "max_width": null,
            "order": null,
            "_view_module_version": "1.2.0",
            "grid_template_areas": null,
            "object_position": null,
            "object_fit": null,
            "grid_auto_columns": null,
            "margin": null,
            "display": null,
            "left": null
          }
        },
        "ce31a5757fab476c9ea5ce485fad7a04": {
          "model_module": "@jupyter-widgets/controls",
          "model_name": "HBoxModel",
          "state": {
            "_view_name": "HBoxView",
            "_dom_classes": [],
            "_model_name": "HBoxModel",
            "_view_module": "@jupyter-widgets/controls",
            "_model_module_version": "1.5.0",
            "_view_count": null,
            "_view_module_version": "1.5.0",
            "box_style": "",
            "layout": "IPY_MODEL_a31d9ef1d64645b3a02fc52bd272abe2",
            "_model_module": "@jupyter-widgets/controls",
            "children": [
              "IPY_MODEL_87dac9c4b673497db6c7a3ec8fef0c44",
              "IPY_MODEL_b8cc9a309c3e40cda6fa4c1eb973edba"
            ]
          }
        },
        "a31d9ef1d64645b3a02fc52bd272abe2": {
          "model_module": "@jupyter-widgets/base",
          "model_name": "LayoutModel",
          "state": {
            "_view_name": "LayoutView",
            "grid_template_rows": null,
            "right": null,
            "justify_content": null,
            "_view_module": "@jupyter-widgets/base",
            "overflow": null,
            "_model_module_version": "1.2.0",
            "_view_count": null,
            "flex_flow": null,
            "width": null,
            "min_width": null,
            "border": null,
            "align_items": null,
            "bottom": null,
            "_model_module": "@jupyter-widgets/base",
            "top": null,
            "grid_column": null,
            "overflow_y": null,
            "overflow_x": null,
            "grid_auto_flow": null,
            "grid_area": null,
            "grid_template_columns": null,
            "flex": null,
            "_model_name": "LayoutModel",
            "justify_items": null,
            "grid_row": null,
            "max_height": null,
            "align_content": null,
            "visibility": null,
            "align_self": null,
            "height": null,
            "min_height": null,
            "padding": null,
            "grid_auto_rows": null,
            "grid_gap": null,
            "max_width": null,
            "order": null,
            "_view_module_version": "1.2.0",
            "grid_template_areas": null,
            "object_position": null,
            "object_fit": null,
            "grid_auto_columns": null,
            "margin": null,
            "display": null,
            "left": null
          }
        },
        "87dac9c4b673497db6c7a3ec8fef0c44": {
          "model_module": "@jupyter-widgets/controls",
          "model_name": "IntProgressModel",
          "state": {
            "_view_name": "ProgressView",
            "style": "IPY_MODEL_587635702b8e4514bab71b9db224344a",
            "_dom_classes": [],
            "description": "",
            "_model_name": "IntProgressModel",
            "bar_style": "success",
            "max": 50359,
            "_view_module": "@jupyter-widgets/controls",
            "_model_module_version": "1.5.0",
            "value": 50359,
            "_view_count": null,
            "_view_module_version": "1.5.0",
            "orientation": "horizontal",
            "min": 0,
            "description_tooltip": null,
            "_model_module": "@jupyter-widgets/controls",
            "layout": "IPY_MODEL_af58c39638ff459e8c4d6abbf2d0a371"
          }
        },
        "b8cc9a309c3e40cda6fa4c1eb973edba": {
          "model_module": "@jupyter-widgets/controls",
          "model_name": "HTMLModel",
          "state": {
            "_view_name": "HTMLView",
            "style": "IPY_MODEL_2626eefdbf2c48079b29c652146380a7",
            "_dom_classes": [],
            "description": "",
            "_model_name": "HTMLModel",
            "placeholder": "​",
            "_view_module": "@jupyter-widgets/controls",
            "_model_module_version": "1.5.0",
            "value": "100% 50359/50359 [00:00&lt;00:00, 53908.76it/s]",
            "_view_count": null,
            "_view_module_version": "1.5.0",
            "description_tooltip": null,
            "_model_module": "@jupyter-widgets/controls",
            "layout": "IPY_MODEL_58b659f1df764052907fd1051e0a1ad3"
          }
        },
        "587635702b8e4514bab71b9db224344a": {
          "model_module": "@jupyter-widgets/controls",
          "model_name": "ProgressStyleModel",
          "state": {
            "_view_name": "StyleView",
            "_model_name": "ProgressStyleModel",
            "description_width": "",
            "_view_module": "@jupyter-widgets/base",
            "_model_module_version": "1.5.0",
            "_view_count": null,
            "_view_module_version": "1.2.0",
            "bar_color": null,
            "_model_module": "@jupyter-widgets/controls"
          }
        },
        "af58c39638ff459e8c4d6abbf2d0a371": {
          "model_module": "@jupyter-widgets/base",
          "model_name": "LayoutModel",
          "state": {
            "_view_name": "LayoutView",
            "grid_template_rows": null,
            "right": null,
            "justify_content": null,
            "_view_module": "@jupyter-widgets/base",
            "overflow": null,
            "_model_module_version": "1.2.0",
            "_view_count": null,
            "flex_flow": null,
            "width": null,
            "min_width": null,
            "border": null,
            "align_items": null,
            "bottom": null,
            "_model_module": "@jupyter-widgets/base",
            "top": null,
            "grid_column": null,
            "overflow_y": null,
            "overflow_x": null,
            "grid_auto_flow": null,
            "grid_area": null,
            "grid_template_columns": null,
            "flex": null,
            "_model_name": "LayoutModel",
            "justify_items": null,
            "grid_row": null,
            "max_height": null,
            "align_content": null,
            "visibility": null,
            "align_self": null,
            "height": null,
            "min_height": null,
            "padding": null,
            "grid_auto_rows": null,
            "grid_gap": null,
            "max_width": null,
            "order": null,
            "_view_module_version": "1.2.0",
            "grid_template_areas": null,
            "object_position": null,
            "object_fit": null,
            "grid_auto_columns": null,
            "margin": null,
            "display": null,
            "left": null
          }
        },
        "2626eefdbf2c48079b29c652146380a7": {
          "model_module": "@jupyter-widgets/controls",
          "model_name": "DescriptionStyleModel",
          "state": {
            "_view_name": "StyleView",
            "_model_name": "DescriptionStyleModel",
            "description_width": "",
            "_view_module": "@jupyter-widgets/base",
            "_model_module_version": "1.5.0",
            "_view_count": null,
            "_view_module_version": "1.2.0",
            "_model_module": "@jupyter-widgets/controls"
          }
        },
        "58b659f1df764052907fd1051e0a1ad3": {
          "model_module": "@jupyter-widgets/base",
          "model_name": "LayoutModel",
          "state": {
            "_view_name": "LayoutView",
            "grid_template_rows": null,
            "right": null,
            "justify_content": null,
            "_view_module": "@jupyter-widgets/base",
            "overflow": null,
            "_model_module_version": "1.2.0",
            "_view_count": null,
            "flex_flow": null,
            "width": null,
            "min_width": null,
            "border": null,
            "align_items": null,
            "bottom": null,
            "_model_module": "@jupyter-widgets/base",
            "top": null,
            "grid_column": null,
            "overflow_y": null,
            "overflow_x": null,
            "grid_auto_flow": null,
            "grid_area": null,
            "grid_template_columns": null,
            "flex": null,
            "_model_name": "LayoutModel",
            "justify_items": null,
            "grid_row": null,
            "max_height": null,
            "align_content": null,
            "visibility": null,
            "align_self": null,
            "height": null,
            "min_height": null,
            "padding": null,
            "grid_auto_rows": null,
            "grid_gap": null,
            "max_width": null,
            "order": null,
            "_view_module_version": "1.2.0",
            "grid_template_areas": null,
            "object_position": null,
            "object_fit": null,
            "grid_auto_columns": null,
            "margin": null,
            "display": null,
            "left": null
          }
        },
        "974b7a707db54e329df250d6bd2f29a1": {
          "model_module": "@jupyter-widgets/controls",
          "model_name": "HBoxModel",
          "state": {
            "_view_name": "HBoxView",
            "_dom_classes": [],
            "_model_name": "HBoxModel",
            "_view_module": "@jupyter-widgets/controls",
            "_model_module_version": "1.5.0",
            "_view_count": null,
            "_view_module_version": "1.5.0",
            "box_style": "",
            "layout": "IPY_MODEL_f854a4bc8f074b56b6edf72541feadac",
            "_model_module": "@jupyter-widgets/controls",
            "children": [
              "IPY_MODEL_39858b846edd424f81bcbc9224de7801",
              "IPY_MODEL_79457b08e589461e8db0b87102b5a6a5"
            ]
          }
        },
        "f854a4bc8f074b56b6edf72541feadac": {
          "model_module": "@jupyter-widgets/base",
          "model_name": "LayoutModel",
          "state": {
            "_view_name": "LayoutView",
            "grid_template_rows": null,
            "right": null,
            "justify_content": null,
            "_view_module": "@jupyter-widgets/base",
            "overflow": null,
            "_model_module_version": "1.2.0",
            "_view_count": null,
            "flex_flow": null,
            "width": null,
            "min_width": null,
            "border": null,
            "align_items": null,
            "bottom": null,
            "_model_module": "@jupyter-widgets/base",
            "top": null,
            "grid_column": null,
            "overflow_y": null,
            "overflow_x": null,
            "grid_auto_flow": null,
            "grid_area": null,
            "grid_template_columns": null,
            "flex": null,
            "_model_name": "LayoutModel",
            "justify_items": null,
            "grid_row": null,
            "max_height": null,
            "align_content": null,
            "visibility": null,
            "align_self": null,
            "height": null,
            "min_height": null,
            "padding": null,
            "grid_auto_rows": null,
            "grid_gap": null,
            "max_width": null,
            "order": null,
            "_view_module_version": "1.2.0",
            "grid_template_areas": null,
            "object_position": null,
            "object_fit": null,
            "grid_auto_columns": null,
            "margin": null,
            "display": null,
            "left": null
          }
        },
        "39858b846edd424f81bcbc9224de7801": {
          "model_module": "@jupyter-widgets/controls",
          "model_name": "IntProgressModel",
          "state": {
            "_view_name": "ProgressView",
            "style": "IPY_MODEL_addeae4e1c214531bb6da9e32ab3eb6b",
            "_dom_classes": [],
            "description": "Epoch",
            "_model_name": "IntProgressModel",
            "bar_style": "success",
            "max": 7,
            "_view_module": "@jupyter-widgets/controls",
            "_model_module_version": "1.5.0",
            "value": 7,
            "_view_count": null,
            "_view_module_version": "1.5.0",
            "orientation": "horizontal",
            "min": 0,
            "description_tooltip": null,
            "_model_module": "@jupyter-widgets/controls",
            "layout": "IPY_MODEL_cc8f85bb1941420294ae871b8483f700"
          }
        },
        "79457b08e589461e8db0b87102b5a6a5": {
          "model_module": "@jupyter-widgets/controls",
          "model_name": "HTMLModel",
          "state": {
            "_view_name": "HTMLView",
            "style": "IPY_MODEL_061ad3ceb4a642abbbddee082bbe0a63",
            "_dom_classes": [],
            "description": "",
            "_model_name": "HTMLModel",
            "placeholder": "​",
            "_view_module": "@jupyter-widgets/controls",
            "_model_module_version": "1.5.0",
            "value": "100% 7/7 [04:18&lt;00:00, 36.86s/it]",
            "_view_count": null,
            "_view_module_version": "1.5.0",
            "description_tooltip": null,
            "_model_module": "@jupyter-widgets/controls",
            "layout": "IPY_MODEL_2bd0149314c94a2fb65748ce885b2d6f"
          }
        },
        "addeae4e1c214531bb6da9e32ab3eb6b": {
          "model_module": "@jupyter-widgets/controls",
          "model_name": "ProgressStyleModel",
          "state": {
            "_view_name": "StyleView",
            "_model_name": "ProgressStyleModel",
            "description_width": "initial",
            "_view_module": "@jupyter-widgets/base",
            "_model_module_version": "1.5.0",
            "_view_count": null,
            "_view_module_version": "1.2.0",
            "bar_color": null,
            "_model_module": "@jupyter-widgets/controls"
          }
        },
        "cc8f85bb1941420294ae871b8483f700": {
          "model_module": "@jupyter-widgets/base",
          "model_name": "LayoutModel",
          "state": {
            "_view_name": "LayoutView",
            "grid_template_rows": null,
            "right": null,
            "justify_content": null,
            "_view_module": "@jupyter-widgets/base",
            "overflow": null,
            "_model_module_version": "1.2.0",
            "_view_count": null,
            "flex_flow": null,
            "width": null,
            "min_width": null,
            "border": null,
            "align_items": null,
            "bottom": null,
            "_model_module": "@jupyter-widgets/base",
            "top": null,
            "grid_column": null,
            "overflow_y": null,
            "overflow_x": null,
            "grid_auto_flow": null,
            "grid_area": null,
            "grid_template_columns": null,
            "flex": null,
            "_model_name": "LayoutModel",
            "justify_items": null,
            "grid_row": null,
            "max_height": null,
            "align_content": null,
            "visibility": null,
            "align_self": null,
            "height": null,
            "min_height": null,
            "padding": null,
            "grid_auto_rows": null,
            "grid_gap": null,
            "max_width": null,
            "order": null,
            "_view_module_version": "1.2.0",
            "grid_template_areas": null,
            "object_position": null,
            "object_fit": null,
            "grid_auto_columns": null,
            "margin": null,
            "display": null,
            "left": null
          }
        },
        "061ad3ceb4a642abbbddee082bbe0a63": {
          "model_module": "@jupyter-widgets/controls",
          "model_name": "DescriptionStyleModel",
          "state": {
            "_view_name": "StyleView",
            "_model_name": "DescriptionStyleModel",
            "description_width": "",
            "_view_module": "@jupyter-widgets/base",
            "_model_module_version": "1.5.0",
            "_view_count": null,
            "_view_module_version": "1.2.0",
            "_model_module": "@jupyter-widgets/controls"
          }
        },
        "2bd0149314c94a2fb65748ce885b2d6f": {
          "model_module": "@jupyter-widgets/base",
          "model_name": "LayoutModel",
          "state": {
            "_view_name": "LayoutView",
            "grid_template_rows": null,
            "right": null,
            "justify_content": null,
            "_view_module": "@jupyter-widgets/base",
            "overflow": null,
            "_model_module_version": "1.2.0",
            "_view_count": null,
            "flex_flow": null,
            "width": null,
            "min_width": null,
            "border": null,
            "align_items": null,
            "bottom": null,
            "_model_module": "@jupyter-widgets/base",
            "top": null,
            "grid_column": null,
            "overflow_y": null,
            "overflow_x": null,
            "grid_auto_flow": null,
            "grid_area": null,
            "grid_template_columns": null,
            "flex": null,
            "_model_name": "LayoutModel",
            "justify_items": null,
            "grid_row": null,
            "max_height": null,
            "align_content": null,
            "visibility": null,
            "align_self": null,
            "height": null,
            "min_height": null,
            "padding": null,
            "grid_auto_rows": null,
            "grid_gap": null,
            "max_width": null,
            "order": null,
            "_view_module_version": "1.2.0",
            "grid_template_areas": null,
            "object_position": null,
            "object_fit": null,
            "grid_auto_columns": null,
            "margin": null,
            "display": null,
            "left": null
          }
        },
        "89084e1ce0364284a8a6f8a8267e1c17": {
          "model_module": "@jupyter-widgets/controls",
          "model_name": "HBoxModel",
          "state": {
            "_view_name": "HBoxView",
            "_dom_classes": [],
            "_model_name": "HBoxModel",
            "_view_module": "@jupyter-widgets/controls",
            "_model_module_version": "1.5.0",
            "_view_count": null,
            "_view_module_version": "1.5.0",
            "box_style": "",
            "layout": "IPY_MODEL_f3a7a2c32c9f4b5e928ffe23ad7eab64",
            "_model_module": "@jupyter-widgets/controls",
            "children": [
              "IPY_MODEL_da01750efc6d49628bf0f46a8be2580c",
              "IPY_MODEL_c47b7c8af9c148519c30b1106a0f5280"
            ]
          }
        },
        "f3a7a2c32c9f4b5e928ffe23ad7eab64": {
          "model_module": "@jupyter-widgets/base",
          "model_name": "LayoutModel",
          "state": {
            "_view_name": "LayoutView",
            "grid_template_rows": null,
            "right": null,
            "justify_content": null,
            "_view_module": "@jupyter-widgets/base",
            "overflow": null,
            "_model_module_version": "1.2.0",
            "_view_count": null,
            "flex_flow": null,
            "width": null,
            "min_width": null,
            "border": null,
            "align_items": null,
            "bottom": null,
            "_model_module": "@jupyter-widgets/base",
            "top": null,
            "grid_column": null,
            "overflow_y": null,
            "overflow_x": null,
            "grid_auto_flow": null,
            "grid_area": null,
            "grid_template_columns": null,
            "flex": null,
            "_model_name": "LayoutModel",
            "justify_items": null,
            "grid_row": null,
            "max_height": null,
            "align_content": null,
            "visibility": null,
            "align_self": null,
            "height": null,
            "min_height": null,
            "padding": null,
            "grid_auto_rows": null,
            "grid_gap": null,
            "max_width": null,
            "order": null,
            "_view_module_version": "1.2.0",
            "grid_template_areas": null,
            "object_position": null,
            "object_fit": null,
            "grid_auto_columns": null,
            "margin": null,
            "display": null,
            "left": null
          }
        },
        "da01750efc6d49628bf0f46a8be2580c": {
          "model_module": "@jupyter-widgets/controls",
          "model_name": "IntProgressModel",
          "state": {
            "_view_name": "ProgressView",
            "style": "IPY_MODEL_f76d143e59ee47409dfd00f5d4ce3e63",
            "_dom_classes": [],
            "description": "",
            "_model_name": "IntProgressModel",
            "bar_style": "success",
            "max": 1000,
            "_view_module": "@jupyter-widgets/controls",
            "_model_module_version": "1.5.0",
            "value": 1000,
            "_view_count": null,
            "_view_module_version": "1.5.0",
            "orientation": "horizontal",
            "min": 0,
            "description_tooltip": null,
            "_model_module": "@jupyter-widgets/controls",
            "layout": "IPY_MODEL_f2e6124801654e84aaa4a251d73457d6"
          }
        },
        "c47b7c8af9c148519c30b1106a0f5280": {
          "model_module": "@jupyter-widgets/controls",
          "model_name": "HTMLModel",
          "state": {
            "_view_name": "HTMLView",
            "style": "IPY_MODEL_51f806495c4843d29f3145d05f3bb88f",
            "_dom_classes": [],
            "description": "",
            "_model_name": "HTMLModel",
            "placeholder": "​",
            "_view_module": "@jupyter-widgets/controls",
            "_model_module_version": "1.5.0",
            "value": "100% 1000/1000 [00:03&lt;00:00, 266.75it/s]",
            "_view_count": null,
            "_view_module_version": "1.5.0",
            "description_tooltip": null,
            "_model_module": "@jupyter-widgets/controls",
            "layout": "IPY_MODEL_9f6a2327e85a488c9bfe0931b4ab9388"
          }
        },
        "f76d143e59ee47409dfd00f5d4ce3e63": {
          "model_module": "@jupyter-widgets/controls",
          "model_name": "ProgressStyleModel",
          "state": {
            "_view_name": "StyleView",
            "_model_name": "ProgressStyleModel",
            "description_width": "",
            "_view_module": "@jupyter-widgets/base",
            "_model_module_version": "1.5.0",
            "_view_count": null,
            "_view_module_version": "1.2.0",
            "bar_color": null,
            "_model_module": "@jupyter-widgets/controls"
          }
        },
        "f2e6124801654e84aaa4a251d73457d6": {
          "model_module": "@jupyter-widgets/base",
          "model_name": "LayoutModel",
          "state": {
            "_view_name": "LayoutView",
            "grid_template_rows": null,
            "right": null,
            "justify_content": null,
            "_view_module": "@jupyter-widgets/base",
            "overflow": null,
            "_model_module_version": "1.2.0",
            "_view_count": null,
            "flex_flow": null,
            "width": null,
            "min_width": null,
            "border": null,
            "align_items": null,
            "bottom": null,
            "_model_module": "@jupyter-widgets/base",
            "top": null,
            "grid_column": null,
            "overflow_y": null,
            "overflow_x": null,
            "grid_auto_flow": null,
            "grid_area": null,
            "grid_template_columns": null,
            "flex": null,
            "_model_name": "LayoutModel",
            "justify_items": null,
            "grid_row": null,
            "max_height": null,
            "align_content": null,
            "visibility": null,
            "align_self": null,
            "height": null,
            "min_height": null,
            "padding": null,
            "grid_auto_rows": null,
            "grid_gap": null,
            "max_width": null,
            "order": null,
            "_view_module_version": "1.2.0",
            "grid_template_areas": null,
            "object_position": null,
            "object_fit": null,
            "grid_auto_columns": null,
            "margin": null,
            "display": null,
            "left": null
          }
        },
        "51f806495c4843d29f3145d05f3bb88f": {
          "model_module": "@jupyter-widgets/controls",
          "model_name": "DescriptionStyleModel",
          "state": {
            "_view_name": "StyleView",
            "_model_name": "DescriptionStyleModel",
            "description_width": "",
            "_view_module": "@jupyter-widgets/base",
            "_model_module_version": "1.5.0",
            "_view_count": null,
            "_view_module_version": "1.2.0",
            "_model_module": "@jupyter-widgets/controls"
          }
        },
        "9f6a2327e85a488c9bfe0931b4ab9388": {
          "model_module": "@jupyter-widgets/base",
          "model_name": "LayoutModel",
          "state": {
            "_view_name": "LayoutView",
            "grid_template_rows": null,
            "right": null,
            "justify_content": null,
            "_view_module": "@jupyter-widgets/base",
            "overflow": null,
            "_model_module_version": "1.2.0",
            "_view_count": null,
            "flex_flow": null,
            "width": null,
            "min_width": null,
            "border": null,
            "align_items": null,
            "bottom": null,
            "_model_module": "@jupyter-widgets/base",
            "top": null,
            "grid_column": null,
            "overflow_y": null,
            "overflow_x": null,
            "grid_auto_flow": null,
            "grid_area": null,
            "grid_template_columns": null,
            "flex": null,
            "_model_name": "LayoutModel",
            "justify_items": null,
            "grid_row": null,
            "max_height": null,
            "align_content": null,
            "visibility": null,
            "align_self": null,
            "height": null,
            "min_height": null,
            "padding": null,
            "grid_auto_rows": null,
            "grid_gap": null,
            "max_width": null,
            "order": null,
            "_view_module_version": "1.2.0",
            "grid_template_areas": null,
            "object_position": null,
            "object_fit": null,
            "grid_auto_columns": null,
            "margin": null,
            "display": null,
            "left": null
          }
        },
        "c850b33eb0f24e41b31054760275bf71": {
          "model_module": "@jupyter-widgets/controls",
          "model_name": "HBoxModel",
          "state": {
            "_view_name": "HBoxView",
            "_dom_classes": [],
            "_model_name": "HBoxModel",
            "_view_module": "@jupyter-widgets/controls",
            "_model_module_version": "1.5.0",
            "_view_count": null,
            "_view_module_version": "1.5.0",
            "box_style": "",
            "layout": "IPY_MODEL_a60b5a31bf184a609d4cba0fc4c82e00",
            "_model_module": "@jupyter-widgets/controls",
            "children": [
              "IPY_MODEL_a6f4208872bc4219ac7267d3dcb140f3",
              "IPY_MODEL_6c7ea173d6e546b0b5a99d2d20b9ef7a"
            ]
          }
        },
        "a60b5a31bf184a609d4cba0fc4c82e00": {
          "model_module": "@jupyter-widgets/base",
          "model_name": "LayoutModel",
          "state": {
            "_view_name": "LayoutView",
            "grid_template_rows": null,
            "right": null,
            "justify_content": null,
            "_view_module": "@jupyter-widgets/base",
            "overflow": null,
            "_model_module_version": "1.2.0",
            "_view_count": null,
            "flex_flow": null,
            "width": null,
            "min_width": null,
            "border": null,
            "align_items": null,
            "bottom": null,
            "_model_module": "@jupyter-widgets/base",
            "top": null,
            "grid_column": null,
            "overflow_y": null,
            "overflow_x": null,
            "grid_auto_flow": null,
            "grid_area": null,
            "grid_template_columns": null,
            "flex": null,
            "_model_name": "LayoutModel",
            "justify_items": null,
            "grid_row": null,
            "max_height": null,
            "align_content": null,
            "visibility": null,
            "align_self": null,
            "height": null,
            "min_height": null,
            "padding": null,
            "grid_auto_rows": null,
            "grid_gap": null,
            "max_width": null,
            "order": null,
            "_view_module_version": "1.2.0",
            "grid_template_areas": null,
            "object_position": null,
            "object_fit": null,
            "grid_auto_columns": null,
            "margin": null,
            "display": null,
            "left": null
          }
        },
        "a6f4208872bc4219ac7267d3dcb140f3": {
          "model_module": "@jupyter-widgets/controls",
          "model_name": "IntProgressModel",
          "state": {
            "_view_name": "ProgressView",
            "style": "IPY_MODEL_dc2ddbbd03f94d30bc12afd8e384d550",
            "_dom_classes": [],
            "description": "",
            "_model_name": "IntProgressModel",
            "bar_style": "success",
            "max": 1000,
            "_view_module": "@jupyter-widgets/controls",
            "_model_module_version": "1.5.0",
            "value": 1000,
            "_view_count": null,
            "_view_module_version": "1.5.0",
            "orientation": "horizontal",
            "min": 0,
            "description_tooltip": null,
            "_model_module": "@jupyter-widgets/controls",
            "layout": "IPY_MODEL_e1327a1e82d24ded97a2cf1b4521fab0"
          }
        },
        "6c7ea173d6e546b0b5a99d2d20b9ef7a": {
          "model_module": "@jupyter-widgets/controls",
          "model_name": "HTMLModel",
          "state": {
            "_view_name": "HTMLView",
            "style": "IPY_MODEL_369b1647c7bb48dbadb8c9bd12aa4108",
            "_dom_classes": [],
            "description": "",
            "_model_name": "HTMLModel",
            "placeholder": "​",
            "_view_module": "@jupyter-widgets/controls",
            "_model_module_version": "1.5.0",
            "value": "100% 1000/1000 [00:00&lt;00:00, 18329.83it/s]",
            "_view_count": null,
            "_view_module_version": "1.5.0",
            "description_tooltip": null,
            "_model_module": "@jupyter-widgets/controls",
            "layout": "IPY_MODEL_25d48dfcecc54733858bc852bb41d57b"
          }
        },
        "dc2ddbbd03f94d30bc12afd8e384d550": {
          "model_module": "@jupyter-widgets/controls",
          "model_name": "ProgressStyleModel",
          "state": {
            "_view_name": "StyleView",
            "_model_name": "ProgressStyleModel",
            "description_width": "",
            "_view_module": "@jupyter-widgets/base",
            "_model_module_version": "1.5.0",
            "_view_count": null,
            "_view_module_version": "1.2.0",
            "bar_color": null,
            "_model_module": "@jupyter-widgets/controls"
          }
        },
        "e1327a1e82d24ded97a2cf1b4521fab0": {
          "model_module": "@jupyter-widgets/base",
          "model_name": "LayoutModel",
          "state": {
            "_view_name": "LayoutView",
            "grid_template_rows": null,
            "right": null,
            "justify_content": null,
            "_view_module": "@jupyter-widgets/base",
            "overflow": null,
            "_model_module_version": "1.2.0",
            "_view_count": null,
            "flex_flow": null,
            "width": null,
            "min_width": null,
            "border": null,
            "align_items": null,
            "bottom": null,
            "_model_module": "@jupyter-widgets/base",
            "top": null,
            "grid_column": null,
            "overflow_y": null,
            "overflow_x": null,
            "grid_auto_flow": null,
            "grid_area": null,
            "grid_template_columns": null,
            "flex": null,
            "_model_name": "LayoutModel",
            "justify_items": null,
            "grid_row": null,
            "max_height": null,
            "align_content": null,
            "visibility": null,
            "align_self": null,
            "height": null,
            "min_height": null,
            "padding": null,
            "grid_auto_rows": null,
            "grid_gap": null,
            "max_width": null,
            "order": null,
            "_view_module_version": "1.2.0",
            "grid_template_areas": null,
            "object_position": null,
            "object_fit": null,
            "grid_auto_columns": null,
            "margin": null,
            "display": null,
            "left": null
          }
        },
        "369b1647c7bb48dbadb8c9bd12aa4108": {
          "model_module": "@jupyter-widgets/controls",
          "model_name": "DescriptionStyleModel",
          "state": {
            "_view_name": "StyleView",
            "_model_name": "DescriptionStyleModel",
            "description_width": "",
            "_view_module": "@jupyter-widgets/base",
            "_model_module_version": "1.5.0",
            "_view_count": null,
            "_view_module_version": "1.2.0",
            "_model_module": "@jupyter-widgets/controls"
          }
        },
        "25d48dfcecc54733858bc852bb41d57b": {
          "model_module": "@jupyter-widgets/base",
          "model_name": "LayoutModel",
          "state": {
            "_view_name": "LayoutView",
            "grid_template_rows": null,
            "right": null,
            "justify_content": null,
            "_view_module": "@jupyter-widgets/base",
            "overflow": null,
            "_model_module_version": "1.2.0",
            "_view_count": null,
            "flex_flow": null,
            "width": null,
            "min_width": null,
            "border": null,
            "align_items": null,
            "bottom": null,
            "_model_module": "@jupyter-widgets/base",
            "top": null,
            "grid_column": null,
            "overflow_y": null,
            "overflow_x": null,
            "grid_auto_flow": null,
            "grid_area": null,
            "grid_template_columns": null,
            "flex": null,
            "_model_name": "LayoutModel",
            "justify_items": null,
            "grid_row": null,
            "max_height": null,
            "align_content": null,
            "visibility": null,
            "align_self": null,
            "height": null,
            "min_height": null,
            "padding": null,
            "grid_auto_rows": null,
            "grid_gap": null,
            "max_width": null,
            "order": null,
            "_view_module_version": "1.2.0",
            "grid_template_areas": null,
            "object_position": null,
            "object_fit": null,
            "grid_auto_columns": null,
            "margin": null,
            "display": null,
            "left": null
          }
        }
      }
    }
  },
  "cells": [
    {
      "cell_type": "markdown",
      "metadata": {
        "id": "view-in-github",
        "colab_type": "text"
      },
      "source": [
        "<a href=\"https://colab.research.google.com/github/RamSaw/NLP/blob/master/HW_04_NLP_LSTM.ipynb\" target=\"_parent\"><img src=\"https://colab.research.google.com/assets/colab-badge.svg\" alt=\"Open In Colab\"/></a>"
      ]
    },
    {
      "cell_type": "code",
      "metadata": {
        "colab_type": "code",
        "id": "-GdLTPv3xdKi",
        "colab": {}
      },
      "source": [
        "from google.colab import drive\n",
        "import random\n",
        "import os\n",
        "import numpy as np\n",
        "import torch\n",
        "import nltk\n",
        "import csv\n",
        "import string\n",
        "from nltk.stem.snowball import SnowballStemmer\n",
        "from collections import defaultdict\n",
        "from tqdm.auto import tqdm\n",
        "from torch.nn.utils.rnn import pad_sequence\n",
        "import re\n",
        "from sklearn.model_selection import train_test_split\n",
        "import torch.nn as nn\n",
        "import torch.optim as optim\n",
        "from tqdm import tnrange\n",
        "from matplotlib import pyplot as plt\n",
        "from sklearn.feature_extraction.text import TfidfVectorizer\n",
        "from scipy.spatial.distance import cosine\n",
        "from nltk.corpus import stopwords"
      ],
      "execution_count": 0,
      "outputs": []
    },
    {
      "cell_type": "code",
      "metadata": {
        "id": "eXfHQzkk0O9s",
        "colab_type": "code",
        "colab": {
          "base_uri": "https://localhost:8080/",
          "height": 34
        },
        "outputId": "1fd96b00-e8d9-4ea2-a2a8-3582d642e972"
      },
      "source": [
        "drive.mount('./gdrive')\n",
        "PATH_TO_DATASET_IN_GDRIVE = './gdrive/My Drive/datasets_for_homeworks/train_qa.csv'"
      ],
      "execution_count": 3,
      "outputs": [
        {
          "output_type": "stream",
          "text": [
            "Drive already mounted at ./gdrive; to attempt to forcibly remount, call drive.mount(\"./gdrive\", force_remount=True).\n"
          ],
          "name": "stdout"
        }
      ]
    },
    {
      "cell_type": "code",
      "metadata": {
        "id": "QvvoCueoyhu9",
        "colab_type": "code",
        "colab": {}
      },
      "source": [
        "def make_reproducible(seed: int, make_cuda_reproducible: bool) -> None:\n",
        "    random.seed(seed)\n",
        "    os.environ['PYTHONHASHSEED'] = str(seed)\n",
        "    np.random.seed(seed)\n",
        "    torch.manual_seed(seed)\n",
        "    if make_cuda_reproducible:\n",
        "        torch.backends.cudnn.deterministic = True\n",
        "        torch.backends.cudnn.benchmark = False"
      ],
      "execution_count": 0,
      "outputs": []
    },
    {
      "cell_type": "code",
      "metadata": {
        "id": "bUXsNXmbykTR",
        "colab_type": "code",
        "colab": {
          "base_uri": "https://localhost:8080/",
          "height": 34
        },
        "outputId": "31e32422-b2e3-4c4b-b1cd-ec231e7dee98"
      },
      "source": [
        "SEED = 2361\n",
        "make_reproducible(SEED, False)\n",
        "DEVICE = torch.device('cuda' if torch.cuda.is_available() else 'cpu')\n",
        "print(DEVICE)"
      ],
      "execution_count": 5,
      "outputs": [
        {
          "output_type": "stream",
          "text": [
            "cuda\n"
          ],
          "name": "stdout"
        }
      ]
    },
    {
      "cell_type": "code",
      "metadata": {
        "id": "TM-FGpSWHCWz",
        "colab_type": "code",
        "outputId": "57197b6f-1a19-4961-d66f-25cad4dddee0",
        "colab": {
          "base_uri": "https://localhost:8080/",
          "height": 69
        }
      },
      "source": [
        "nltk.download('punkt')"
      ],
      "execution_count": 6,
      "outputs": [
        {
          "output_type": "stream",
          "text": [
            "[nltk_data] Downloading package punkt to /root/nltk_data...\n",
            "[nltk_data]   Package punkt is already up-to-date!\n"
          ],
          "name": "stdout"
        },
        {
          "output_type": "execute_result",
          "data": {
            "text/plain": [
              "True"
            ]
          },
          "metadata": {
            "tags": []
          },
          "execution_count": 6
        }
      ]
    },
    {
      "cell_type": "code",
      "metadata": {
        "id": "pKOR515JJCPh",
        "colab_type": "code",
        "colab": {}
      },
      "source": [
        "def find_sentence_with_answer(text, answer):\n",
        "  answer_lowered = answer.lower()\n",
        "  sentences = nltk.sent_tokenize(text, language=\"russian\")\n",
        "  num_of_sentences = len(sentences)\n",
        "  # this check is needed because nltk.sent_tokenize splits abbreviations\n",
        "  for i in range(num_of_sentences - 1):\n",
        "      sentences.append(sentences[i] + \" \" + sentences[i + 1])\n",
        "  for sentence in sentences:\n",
        "      sentence_lowered = sentence.lower()\n",
        "      if answer_lowered in sentence_lowered:\n",
        "        return sentence, sentence_lowered.find(answer_lowered)\n",
        "  \n",
        "  return \"\", -1"
      ],
      "execution_count": 0,
      "outputs": []
    },
    {
      "cell_type": "code",
      "metadata": {
        "id": "uMlAyUpWGsTK",
        "colab_type": "code",
        "outputId": "a933f59f-2ba4-4545-bd05-8d049edd8a2f",
        "colab": {
          "base_uri": "https://localhost:8080/",
          "height": 34
        }
      },
      "source": [
        "find_sentence_with_answer('Джордж Д. Мартин родился в 1998 году. Вырос я в городе Санкт-Петербург.', 'Джордж Д. Мартин')"
      ],
      "execution_count": 8,
      "outputs": [
        {
          "output_type": "execute_result",
          "data": {
            "text/plain": [
              "('Джордж Д. Мартин родился в 1998 году.', 0)"
            ]
          },
          "metadata": {
            "tags": []
          },
          "execution_count": 8
        }
      ]
    },
    {
      "cell_type": "code",
      "metadata": {
        "id": "Mz9ppcwm8LnJ",
        "colab_type": "code",
        "colab": {
          "base_uri": "https://localhost:8080/",
          "height": 34
        },
        "outputId": "a3ce408f-ceaa-4927-ae58-02fa482d1cba"
      },
      "source": [
        "PUNCTUATION = [punct for punct in string.punctuation]\n",
        "PUNCTUATION.append('...')\n",
        "PUNCTUATION.append('..')\n",
        "print(PUNCTUATION)"
      ],
      "execution_count": 9,
      "outputs": [
        {
          "output_type": "stream",
          "text": [
            "['!', '\"', '#', '$', '%', '&', \"'\", '(', ')', '*', '+', ',', '-', '.', '/', ':', ';', '<', '=', '>', '?', '@', '[', '\\\\', ']', '^', '_', '`', '{', '|', '}', '~', '...', '..']\n"
          ],
          "name": "stdout"
        }
      ]
    },
    {
      "cell_type": "code",
      "metadata": {
        "id": "cTCHZUMK2SDS",
        "colab_type": "code",
        "colab": {}
      },
      "source": [
        "def clear_answer_from_punctuation(answer):\n",
        "    answer = answer.strip()\n",
        "    for punct in PUNCTUATION:\n",
        "        if answer.startswith(punct):\n",
        "            answer = answer[len(punct):]\n",
        "    for punct in PUNCTUATION:\n",
        "        if answer.endswith(punct):\n",
        "            answer = answer[:-len(punct)]\n",
        "    return answer"
      ],
      "execution_count": 0,
      "outputs": []
    },
    {
      "cell_type": "code",
      "metadata": {
        "colab_type": "code",
        "id": "z1q5gRXqxdLV",
        "colab": {}
      },
      "source": [
        "DATASET = []\n",
        "with open(PATH_TO_DATASET_IN_GDRIVE) as csv_file:\n",
        "    reader = csv.reader(csv_file)\n",
        "    next(reader) # skip header\n",
        "\n",
        "    for row in reader:\n",
        "        paragraph = row[2]\n",
        "        question = row[3]\n",
        "        answer = row[4]\n",
        "        answer = clear_answer_from_punctuation(answer)\n",
        "        sentence, start_ind = find_sentence_with_answer(paragraph, answer)\n",
        "        if start_ind != -1:\n",
        "            DATASET.append({'paragraph': re.split('(\\W)', sentence),\n",
        "                            'question': re.split('(\\W)', question),\n",
        "                            'answer': (start_ind, len(answer))})"
      ],
      "execution_count": 0,
      "outputs": []
    },
    {
      "cell_type": "code",
      "metadata": {
        "colab_type": "code",
        "id": "uuWkev9L00yv",
        "outputId": "f378ca45-dbbd-4572-893b-d7466e6057d2",
        "colab": {
          "base_uri": "https://localhost:8080/",
          "height": 72
        }
      },
      "source": [
        "print(DATASET[10])\n",
        "print(len(DATASET))"
      ],
      "execution_count": 12,
      "outputs": [
        {
          "output_type": "stream",
          "text": [
            "{'paragraph': ['Средняя', ' ', 'его', ' ', 'масса', ' ', '1300', '—', '1400', ' ', 'г', '.', '', ' ', 'Рост', ' ', 'мозга', ' ', 'продолжается', ' ', 'до', ' ', '20', ' ', 'лет', '.', ''], 'question': ['Сколько', ' ', 'лет', ' ', 'происходит', ' ', 'развитие', ' ', 'мозговой', ' ', 'массы', '?', ''], 'answer': (55, 9)}\n",
            "50359\n"
          ],
          "name": "stdout"
        }
      ]
    },
    {
      "cell_type": "code",
      "metadata": {
        "id": "BQeBO6c6Gy5p",
        "colab_type": "code",
        "colab": {}
      },
      "source": [
        "STEMMER = SnowballStemmer(\"russian\")\n",
        "def preprocess(word, use_stemmer=True):\n",
        "  return STEMMER.stem(word.lower()) if use_stemmer else word.lower()\n",
        "\n",
        "def build_vocab(data):\n",
        "    vocab = defaultdict(lambda: 0)\n",
        "    vocab['<unk>'] = 0\n",
        "    vocab['<sep>'] = 1\n",
        "    vocab['<pad>'] = 2\n",
        "    for datapoint in tqdm(data):\n",
        "        for word in datapoint['paragraph'] + datapoint['question']:\n",
        "            word_preprocessed = preprocess(word)\n",
        "            if word_preprocessed not in vocab:\n",
        "                vocab[word_preprocessed] = len(vocab)\n",
        "    return vocab"
      ],
      "execution_count": 0,
      "outputs": []
    },
    {
      "cell_type": "code",
      "metadata": {
        "id": "uZgj0V80_CQk",
        "colab_type": "code",
        "colab": {
          "base_uri": "https://localhost:8080/",
          "height": 66,
          "referenced_widgets": [
            "cfb3ae898c7649bcb858d90f47d634c5",
            "eef787fc107948749addd94646be6eff",
            "5925be7deecc4f24be77de3eb8e97898",
            "1b5cc299a66340a1a5118e6b91da3a4a",
            "76b0b4df72ee4a438099d3d89b1fbd28",
            "b10449f05a2545c6a1a9dc0d0bbf9fc5",
            "d4d7342ca846404c9bafc52610369d35",
            "8d31a92d848f4ab1830230853b78bb85"
          ]
        },
        "outputId": "3208ce85-10bc-4a6f-95e8-d2426076cdd8"
      },
      "source": [
        "VOCAB = build_vocab(DATASET)"
      ],
      "execution_count": 14,
      "outputs": [
        {
          "output_type": "display_data",
          "data": {
            "application/vnd.jupyter.widget-view+json": {
              "model_id": "cfb3ae898c7649bcb858d90f47d634c5",
              "version_minor": 0,
              "version_major": 2
            },
            "text/plain": [
              "HBox(children=(IntProgress(value=0, max=50359), HTML(value='')))"
            ]
          },
          "metadata": {
            "tags": []
          }
        },
        {
          "output_type": "stream",
          "text": [
            "\n"
          ],
          "name": "stdout"
        }
      ]
    },
    {
      "cell_type": "code",
      "metadata": {
        "id": "aGYlGS1RAPOY",
        "colab_type": "code",
        "colab": {
          "base_uri": "https://localhost:8080/",
          "height": 121
        },
        "outputId": "06407abf-4549-4a3c-a6a8-7b02eac394a7"
      },
      "source": [
        "print(len(VOCAB))\n",
        "print(VOCAB['<unk>'])\n",
        "print(VOCAB['<sep>'])\n",
        "print(VOCAB['<pad>'])\n",
        "print(VOCAB['средн'])\n",
        "print(VOCAB['средняя'])"
      ],
      "execution_count": 15,
      "outputs": [
        {
          "output_type": "stream",
          "text": [
            "52387\n",
            "0\n",
            "1\n",
            "2\n",
            "229\n",
            "0\n"
          ],
          "name": "stdout"
        }
      ]
    },
    {
      "cell_type": "code",
      "metadata": {
        "id": "aj2jRdd2ACsC",
        "colab_type": "code",
        "colab": {}
      },
      "source": [
        "def to_tensor(datapoint, vocab):\n",
        "    indices = [vocab[preprocess(word)] for word in datapoint['paragraph'] + ['<sep>'] + datapoint['question']]\n",
        "    return torch.tensor(indices)\n",
        "\n",
        "def pad_dataset(dataset, vocab):\n",
        "    num_dataset = [to_tensor(datapoint, vocab) for datapoint in tqdm(dataset)]\n",
        "    return pad_sequence(num_dataset, batch_first=True, padding_value=vocab['<pad>'])"
      ],
      "execution_count": 0,
      "outputs": []
    },
    {
      "cell_type": "code",
      "metadata": {
        "id": "CQY9gab_IfNy",
        "colab_type": "code",
        "colab": {
          "base_uri": "https://localhost:8080/",
          "height": 66,
          "referenced_widgets": [
            "041331b07f8946919cae77cf71f8535d",
            "3e61f398b99146118d78fd77294a5018",
            "123835df754248ea9e61e2121dcf0ee4",
            "63d51fb3c59c457a9feeec7f4b7f4bae",
            "8c161284fe7246a18a5384194b429b54",
            "0413b08a587242679d03b28e1505edc6",
            "bbaf0d72185a4537938d9aadafb59014",
            "6fed10d456f3403083a3bcfd00803808"
          ]
        },
        "outputId": "a2c0ae13-3750-4d70-f5c2-eab3d2988a62"
      },
      "source": [
        "PAD_DATASET = pad_dataset(DATASET, VOCAB)"
      ],
      "execution_count": 17,
      "outputs": [
        {
          "output_type": "display_data",
          "data": {
            "application/vnd.jupyter.widget-view+json": {
              "model_id": "041331b07f8946919cae77cf71f8535d",
              "version_minor": 0,
              "version_major": 2
            },
            "text/plain": [
              "HBox(children=(IntProgress(value=0, max=50359), HTML(value='')))"
            ]
          },
          "metadata": {
            "tags": []
          }
        },
        {
          "output_type": "stream",
          "text": [
            "\n"
          ],
          "name": "stdout"
        }
      ]
    },
    {
      "cell_type": "code",
      "metadata": {
        "id": "Wd5BF6diItIX",
        "colab_type": "code",
        "colab": {
          "base_uri": "https://localhost:8080/",
          "height": 34
        },
        "outputId": "23468892-333e-4682-d6d1-947dab5f710b"
      },
      "source": [
        "PAD_DATASET[10]"
      ],
      "execution_count": 18,
      "outputs": [
        {
          "output_type": "execute_result",
          "data": {
            "text/plain": [
              "tensor([229,   4, 230,  ...,   2,   2,   2])"
            ]
          },
          "metadata": {
            "tags": []
          },
          "execution_count": 18
        }
      ]
    },
    {
      "cell_type": "code",
      "metadata": {
        "colab_type": "code",
        "id": "rPgIjg8mxdMe",
        "colab": {}
      },
      "source": [
        "def get_positions(datapoint):\n",
        "    pos = []\n",
        "    idx = 0\n",
        "    for word in datapoint['paragraph']:\n",
        "        cur_l = len(word)\n",
        "        pos.append((idx, cur_l))\n",
        "        idx += cur_l\n",
        "    return pos"
      ],
      "execution_count": 0,
      "outputs": []
    },
    {
      "cell_type": "code",
      "metadata": {
        "colab_type": "code",
        "id": "X5VmPiTnKvYM",
        "colab": {}
      },
      "source": [
        "def pos_dataset(dataset):\n",
        "    return [get_positions(datapoint) for datapoint in tqdm(dataset)]"
      ],
      "execution_count": 0,
      "outputs": []
    },
    {
      "cell_type": "code",
      "metadata": {
        "colab_type": "code",
        "id": "8yT-kS5NxdMq",
        "outputId": "f7fd87bf-f7ee-4eaa-80cb-98950bf41acc",
        "colab": {
          "base_uri": "https://localhost:8080/",
          "height": 66,
          "referenced_widgets": [
            "ce31a5757fab476c9ea5ce485fad7a04",
            "a31d9ef1d64645b3a02fc52bd272abe2",
            "87dac9c4b673497db6c7a3ec8fef0c44",
            "b8cc9a309c3e40cda6fa4c1eb973edba",
            "587635702b8e4514bab71b9db224344a",
            "af58c39638ff459e8c4d6abbf2d0a371",
            "2626eefdbf2c48079b29c652146380a7",
            "58b659f1df764052907fd1051e0a1ad3"
          ]
        }
      },
      "source": [
        "POS_DATASET = pos_dataset(DATASET)"
      ],
      "execution_count": 21,
      "outputs": [
        {
          "output_type": "display_data",
          "data": {
            "application/vnd.jupyter.widget-view+json": {
              "model_id": "ce31a5757fab476c9ea5ce485fad7a04",
              "version_minor": 0,
              "version_major": 2
            },
            "text/plain": [
              "HBox(children=(IntProgress(value=0, max=50359), HTML(value='')))"
            ]
          },
          "metadata": {
            "tags": []
          }
        },
        {
          "output_type": "stream",
          "text": [
            "\n"
          ],
          "name": "stdout"
        }
      ]
    },
    {
      "cell_type": "code",
      "metadata": {
        "id": "UyFPqIlxKvA1",
        "colab_type": "code",
        "colab": {
          "base_uri": "https://localhost:8080/",
          "height": 486
        },
        "outputId": "ae1c77f9-1a17-451b-ac80-b6435c267388"
      },
      "source": [
        "POS_DATASET[10]"
      ],
      "execution_count": 22,
      "outputs": [
        {
          "output_type": "execute_result",
          "data": {
            "text/plain": [
              "[(0, 7),\n",
              " (7, 1),\n",
              " (8, 3),\n",
              " (11, 1),\n",
              " (12, 5),\n",
              " (17, 1),\n",
              " (18, 4),\n",
              " (22, 1),\n",
              " (23, 4),\n",
              " (27, 1),\n",
              " (28, 1),\n",
              " (29, 1),\n",
              " (30, 0),\n",
              " (30, 1),\n",
              " (31, 4),\n",
              " (35, 1),\n",
              " (36, 5),\n",
              " (41, 1),\n",
              " (42, 12),\n",
              " (54, 1),\n",
              " (55, 2),\n",
              " (57, 1),\n",
              " (58, 2),\n",
              " (60, 1),\n",
              " (61, 3),\n",
              " (64, 1),\n",
              " (65, 0)]"
            ]
          },
          "metadata": {
            "tags": []
          },
          "execution_count": 22
        }
      ]
    },
    {
      "cell_type": "code",
      "metadata": {
        "colab_type": "code",
        "id": "iJdrIaH3xdM2",
        "colab": {}
      },
      "source": [
        "def add_labels_to_dataset(X_pad, X_pos, dataset):\n",
        "    dataset_with_labels = []\n",
        "\n",
        "    for sentence, pos, row in zip(X_pad, X_pos, dataset):\n",
        "        ans_start, ans_len = row['answer']\n",
        "        y = torch.zeros(2)\n",
        "        for pos_i in range(len(pos)):\n",
        "          if pos[pos_i][0] == ans_start:\n",
        "              y[0] = pos_i\n",
        "          if pos[pos_i][0] == ans_start + ans_len:\n",
        "              y[1] = pos_i - 1\n",
        "        dataset_with_labels.append((sentence, y))\n",
        "\n",
        "    return dataset_with_labels"
      ],
      "execution_count": 0,
      "outputs": []
    },
    {
      "cell_type": "code",
      "metadata": {
        "colab_type": "code",
        "id": "8HOBgF9yxdM8",
        "colab": {}
      },
      "source": [
        "LABELED_DATASET = add_labels_to_dataset(PAD_DATASET, POS_DATASET, DATASET)"
      ],
      "execution_count": 0,
      "outputs": []
    },
    {
      "cell_type": "code",
      "metadata": {
        "id": "OvVyyFLtL2H1",
        "colab_type": "code",
        "colab": {
          "base_uri": "https://localhost:8080/",
          "height": 34
        },
        "outputId": "c0abc8f0-0584-479a-bb37-533ff53146de"
      },
      "source": [
        "LABELED_DATASET[20]"
      ],
      "execution_count": 25,
      "outputs": [
        {
          "output_type": "execute_result",
          "data": {
            "text/plain": [
              "(tensor([383,   4, 384,  ...,   2,   2,   2]), tensor([0., 6.]))"
            ]
          },
          "metadata": {
            "tags": []
          },
          "execution_count": 25
        }
      ]
    },
    {
      "cell_type": "code",
      "metadata": {
        "colab_type": "code",
        "id": "RBV-OUxTxdNI",
        "colab": {}
      },
      "source": [
        "TRAIN_DATASET, VAL_DATASET = train_test_split(LABELED_DATASET, test_size=0.1, random_state=SEED)"
      ],
      "execution_count": 0,
      "outputs": []
    },
    {
      "cell_type": "code",
      "metadata": {
        "colab_type": "code",
        "id": "ZAssvCKbxdNM",
        "colab": {}
      },
      "source": [
        "class QA_Model(nn.Module):\n",
        "    def __init__(self, embedding_dim, hidden_dim, vocab_size):\n",
        "        super(QA_Model, self).__init__()\n",
        "        self.word_embeddings = nn.Embedding(vocab_size, embedding_dim)\n",
        "        self.lstm = nn.LSTM(embedding_dim, hidden_dim, num_layers=1, bidirectional=True, batch_first=True)\n",
        "        self.linear = nn.Linear(hidden_dim * 2, 2)\n",
        "        self.log_softmax = nn.LogSoftmax(dim=2)\n",
        "    \n",
        "    def forward(self, x):\n",
        "        x = self.word_embeddings(x)\n",
        "        x, _ = self.lstm(x)\n",
        "        y = self.linear(x)\n",
        "        y = torch.transpose(y, 1, 2)\n",
        "        y = self.log_softmax(y)\n",
        "        return y"
      ],
      "execution_count": 0,
      "outputs": []
    },
    {
      "cell_type": "code",
      "metadata": {
        "colab_type": "code",
        "id": "6xw73WgmxdNT",
        "colab": {}
      },
      "source": [
        "def fit(model, train_data, val_data, epoch_cnt, batch_size):\n",
        "    loss_function = nn.NLLLoss()\n",
        "\n",
        "    def my_loss_function(output, y):\n",
        "        y1, y2 = y[:, 0].reshape(-1), y[:, 1].reshape(-1)\n",
        "        loss1 = loss_function(output[:, 0], y1.long())\n",
        "        loss2 = loss_function(output[:, 1], y2.long())\n",
        "        return (loss1 + loss2) / 2\n",
        "    \n",
        "    optimizer = optim.Adam(model.parameters(), lr=1e-3)\n",
        "    train_loader = torch.utils.data.DataLoader(train_data, batch_size=batch_size, shuffle=True)\n",
        "    val_loader = torch.utils.data.DataLoader(val_data, batch_size=batch_size)\n",
        "    train_loss_values = []\n",
        "    val_loss_values = []\n",
        "            \n",
        "    for epoch in tnrange(epoch_cnt, desc='Epoch'):\n",
        "        for batch in train_loader:\n",
        "            x, y = batch[0].to(DEVICE), batch[1].to(DEVICE)\n",
        "            optimizer.zero_grad()\n",
        "            output = model(x.long())\n",
        "            loss = my_loss_function(output, y)\n",
        "            loss.backward()\n",
        "\n",
        "            train_loss_values.append(loss.item())\n",
        "            nn.utils.clip_grad_norm_(model.parameters(), 5)\n",
        "            optimizer.step()\n",
        "\n",
        "        with torch.no_grad():\n",
        "            loss_values = []\n",
        "            for batch_data in val_loader:\n",
        "                x, y = batch[0].to(DEVICE), batch[1].to(DEVICE)\n",
        "                output = model(x.long())\n",
        "                loss = my_loss_function(output, y)\n",
        "                loss_values.append(loss.item())\n",
        "            val_loss_values.append(np.mean(np.array(loss_values)))\n",
        "\n",
        "    return train_loss_values, val_loss_values \n"
      ],
      "execution_count": 0,
      "outputs": []
    },
    {
      "cell_type": "code",
      "metadata": {
        "colab_type": "code",
        "id": "7TidGCKaxdNd",
        "colab": {}
      },
      "source": [
        "HID_DIM = 128\n",
        "EMB_DIM = 128\n",
        "MODEL = QA_Model(EMB_DIM, HID_DIM, len(VOCAB)).to(DEVICE)"
      ],
      "execution_count": 0,
      "outputs": []
    },
    {
      "cell_type": "code",
      "metadata": {
        "colab_type": "code",
        "id": "ke_exZJWxdNs",
        "outputId": "3eb5a217-afee-4d6d-af8f-9fe1dd81b347",
        "colab": {
          "base_uri": "https://localhost:8080/",
          "height": 66,
          "referenced_widgets": [
            "974b7a707db54e329df250d6bd2f29a1",
            "f854a4bc8f074b56b6edf72541feadac",
            "39858b846edd424f81bcbc9224de7801",
            "79457b08e589461e8db0b87102b5a6a5",
            "addeae4e1c214531bb6da9e32ab3eb6b",
            "cc8f85bb1941420294ae871b8483f700",
            "061ad3ceb4a642abbbddee082bbe0a63",
            "2bd0149314c94a2fb65748ce885b2d6f"
          ]
        }
      },
      "source": [
        "EPOCHS_NUM = 7\n",
        "BATCH_SIZE = 256\n",
        "TRAIN_LOSS, VAL_LOSS = fit(MODEL, TRAIN_DATASET, VAL_DATASET, EPOCHS_NUM, BATCH_SIZE)"
      ],
      "execution_count": 48,
      "outputs": [
        {
          "output_type": "display_data",
          "data": {
            "application/vnd.jupyter.widget-view+json": {
              "model_id": "974b7a707db54e329df250d6bd2f29a1",
              "version_minor": 0,
              "version_major": 2
            },
            "text/plain": [
              "HBox(children=(IntProgress(value=0, description='Epoch', max=7, style=ProgressStyle(description_width='initial…"
            ]
          },
          "metadata": {
            "tags": []
          }
        },
        {
          "output_type": "stream",
          "text": [
            "\n"
          ],
          "name": "stdout"
        }
      ]
    },
    {
      "cell_type": "code",
      "metadata": {
        "id": "8JAHhpUXVzVD",
        "colab_type": "code",
        "colab": {
          "base_uri": "https://localhost:8080/",
          "height": 281
        },
        "outputId": "0535a0ec-b87b-4362-cede-da73fb1a94fe"
      },
      "source": [
        "plt.plot(TRAIN_LOSS, label='train')\n",
        "plt.plot(np.arange(0, len(TRAIN_LOSS), len(TRAIN_LOSS) / EPOCHS_NUM), VAL_LOSS, label='validation')\n",
        "plt.legend()\n",
        "plt.title(\"Loss values\")\n",
        "plt.show()"
      ],
      "execution_count": 49,
      "outputs": [
        {
          "output_type": "display_data",
          "data": {
            "image/png": "[encoded data removed]",
            "text/plain": [
              "<Figure size 432x288 with 1 Axes>"
            ]
          },
          "metadata": {
            "tags": []
          }
        }
      ]
    },
    {
      "cell_type": "code",
      "metadata": {
        "id": "Ajsgios6U1ed",
        "colab_type": "code",
        "outputId": "263d792b-80ec-4326-b8b6-19c8d081e380",
        "colab": {
          "base_uri": "https://localhost:8080/",
          "height": 52
        }
      },
      "source": [
        "nltk.download('stopwords')\n",
        "STOPWORDS = list(stopwords.words('russian'))"
      ],
      "execution_count": 50,
      "outputs": [
        {
          "output_type": "stream",
          "text": [
            "[nltk_data] Downloading package stopwords to /root/nltk_data...\n",
            "[nltk_data]   Package stopwords is already up-to-date!\n"
          ],
          "name": "stdout"
        }
      ]
    },
    {
      "cell_type": "code",
      "metadata": {
        "id": "ZP0JBc2lRueM",
        "colab_type": "code",
        "colab": {}
      },
      "source": [
        "def proccess_sentence(sentence):\n",
        "  return ' '.join([preprocess(word) for word in nltk.word_tokenize(sentence) if word.lower() not in STOPWORDS])\n",
        "\n",
        "def find_closest_tf_idf(paragraph, question):\n",
        "  sentences = nltk.sent_tokenize(paragraph)\n",
        "  sentences_preproccessed = sentences + [question]\n",
        "  sentences_preproccessed = [proccess_sentence(sentence) for sentence in sentences_preproccessed]\n",
        "  tf_idf = TfidfVectorizer().fit_transform(sentences_preproccessed)\n",
        "\n",
        "  question_vec = tf_idf[-1].todense()\n",
        "  minimum = (cosine(tf_idf[0].todense(), question_vec), 0)\n",
        "  for i in range(1, len(sentences)):\n",
        "    if cosine(tf_idf[i].todense(), question_vec) < minimum[0]:\n",
        "        minimum = (cosine(tf_idf[i].todense(), question_vec), i)\n",
        "  return sentences[minimum[1]]"
      ],
      "execution_count": 0,
      "outputs": []
    },
    {
      "cell_type": "code",
      "metadata": {
        "colab_type": "code",
        "id": "JuXQFeCexdLM",
        "colab": {}
      },
      "source": [
        "TEST = []\n",
        "\n",
        "with open('dataset_281937.txt') as test_csv:\n",
        "    reader = csv.reader(test_csv, delimiter='\\t')\n",
        "    next(reader)\n",
        "    for row in reader:\n",
        "        question = row[3]\n",
        "        sentence = find_closest_tf_idf(row[2], question)\n",
        "        try:\n",
        "            TEST.append({'paragraph': re.split('(\\W)', sentence),\n",
        "                        'question_id': row[1],\n",
        "                        'question': re.split('(\\W)', question)})\n",
        "        except:\n",
        "            print(sentence)"
      ],
      "execution_count": 0,
      "outputs": []
    },
    {
      "cell_type": "code",
      "metadata": {
        "colab_type": "code",
        "id": "chMdvjzjxdN9",
        "outputId": "6294a36d-b164-4340-8540-c45ea8174b1b",
        "colab": {
          "base_uri": "https://localhost:8080/",
          "height": 116,
          "referenced_widgets": [
            "89084e1ce0364284a8a6f8a8267e1c17",
            "f3a7a2c32c9f4b5e928ffe23ad7eab64",
            "da01750efc6d49628bf0f46a8be2580c",
            "c47b7c8af9c148519c30b1106a0f5280",
            "f76d143e59ee47409dfd00f5d4ce3e63",
            "f2e6124801654e84aaa4a251d73457d6",
            "51f806495c4843d29f3145d05f3bb88f",
            "9f6a2327e85a488c9bfe0931b4ab9388",
            "c850b33eb0f24e41b31054760275bf71",
            "a60b5a31bf184a609d4cba0fc4c82e00",
            "a6f4208872bc4219ac7267d3dcb140f3",
            "6c7ea173d6e546b0b5a99d2d20b9ef7a",
            "dc2ddbbd03f94d30bc12afd8e384d550",
            "e1327a1e82d24ded97a2cf1b4521fab0",
            "369b1647c7bb48dbadb8c9bd12aa4108",
            "25d48dfcecc54733858bc852bb41d57b"
          ]
        }
      },
      "source": [
        "PAD_TEST = pad_dataset(TEST, VOCAB)\n",
        "POS_TEST = pos_dataset(TEST)"
      ],
      "execution_count": 66,
      "outputs": [
        {
          "output_type": "display_data",
          "data": {
            "application/vnd.jupyter.widget-view+json": {
              "model_id": "89084e1ce0364284a8a6f8a8267e1c17",
              "version_minor": 0,
              "version_major": 2
            },
            "text/plain": [
              "HBox(children=(IntProgress(value=0, max=1000), HTML(value='')))"
            ]
          },
          "metadata": {
            "tags": []
          }
        },
        {
          "output_type": "stream",
          "text": [
            "\n"
          ],
          "name": "stdout"
        },
        {
          "output_type": "display_data",
          "data": {
            "application/vnd.jupyter.widget-view+json": {
              "model_id": "c850b33eb0f24e41b31054760275bf71",
              "version_minor": 0,
              "version_major": 2
            },
            "text/plain": [
              "HBox(children=(IntProgress(value=0, max=1000), HTML(value='')))"
            ]
          },
          "metadata": {
            "tags": []
          }
        },
        {
          "output_type": "stream",
          "text": [
            "\n"
          ],
          "name": "stdout"
        }
      ]
    },
    {
      "cell_type": "code",
      "metadata": {
        "id": "th1_rbBzfIXW",
        "colab_type": "code",
        "colab": {
          "base_uri": "https://localhost:8080/",
          "height": 54
        },
        "outputId": "852759e4-e980-48d5-cc97-f08d192718cc"
      },
      "source": [
        "print(TEST[20])"
      ],
      "execution_count": 67,
      "outputs": [
        {
          "output_type": "stream",
          "text": [
            "{'paragraph': ['Капуцины', ',', '', ' ', 'наоборот', ',', '', ' ', 'имеют', ' ', 'очень', ' ', 'широкий', ' ', 'диапазон', ' ', 'пищи', ',', '', ' ', 'который', ' ', 'включает', ' ', 'фрукты', ',', '', ' ', 'листья', ',', '', ' ', 'цветы', ',', '', ' ', 'бутоны', ',', '', ' ', 'нектар', ',', '', ' ', 'семена', ',', '', ' ', 'насекомых', ' ', 'и', ' ', 'других', ' ', 'беспозвоночных', ',', '', ' ', 'птичьи', ' ', 'яйца', ' ', 'и', ' ', 'мелких', ' ', 'позвоночных', ' ', '', '(', 'в', ' ', 'том', ' ', 'числе', ' ', 'птиц', ',', '', ' ', 'ящериц', ',', '', ' ', 'белок', ' ', 'и', ' ', 'летучих', ' ', 'мышей', ')', '', '[', '10', ']', '', '.', ''], 'question_id': '52527', 'question': ['Каких', ' ', 'мелких', ' ', 'позвоночных', ' ', 'едят', ' ', 'капуцины', '?', '']}\n"
          ],
          "name": "stdout"
        }
      ]
    },
    {
      "cell_type": "code",
      "metadata": {
        "colab_type": "code",
        "id": "cJ3_rkDCxdOF",
        "colab": {}
      },
      "source": [
        "def get_answers():\n",
        "    with torch.no_grad():\n",
        "        test_loader = torch.utils.data.DataLoader(PAD_TEST, batch_size=256)\n",
        "        answers = None\n",
        "        \n",
        "        for batch in test_loader:\n",
        "            x = batch.to(DEVICE)\n",
        "            output = MODEL(x.long())\n",
        "            _, answer_cur = output.max(dim=2)\n",
        "            answer_cur = answer_cur.cpu().numpy()\n",
        "            if answers is None:\n",
        "                answers = answer_cur\n",
        "            else:\n",
        "                answers = np.append(answers, answer_cur, axis=0)\n",
        "        return answers"
      ],
      "execution_count": 0,
      "outputs": []
    },
    {
      "cell_type": "code",
      "metadata": {
        "colab_type": "code",
        "id": "McRf6SmhsTnM",
        "colab": {}
      },
      "source": [
        "ANSWERS = get_answers()"
      ],
      "execution_count": 0,
      "outputs": []
    },
    {
      "cell_type": "code",
      "metadata": {
        "colab_type": "code",
        "id": "B29hzFLOxdOJ",
        "colab": {}
      },
      "source": [
        "with open('./output.txt', 'w') as output_file:\n",
        "    for tags, row in zip(ANSWERS, TEST):\n",
        "        start, end = tags\n",
        "        if start > end:\n",
        "            start, end = end, start\n",
        "        answer_to_print = \"\".join(row['paragraph'][start:end + 1])\n",
        "        output_file.write(f\"{row['question_id']}\\t{answer_to_print}\\n\")\n"
      ],
      "execution_count": 0,
      "outputs": []
    },
    {
      "cell_type": "code",
      "metadata": {
        "colab_type": "code",
        "id": "NjpxYr9Mmogc",
        "colab": {}
      },
      "source": [
        ""
      ],
      "execution_count": 0,
      "outputs": []
    }
  ]
}