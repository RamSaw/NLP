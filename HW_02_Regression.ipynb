{
 "cells": [
  {
   "cell_type": "code",
   "execution_count": 1,
   "metadata": {
    "colab": {
     "base_uri": "https://localhost:8080/",
     "height": 86
    },
    "colab_type": "code",
    "id": "49ns6ulb19yw",
    "outputId": "0ef13633-b3bc-467e-8318-62816f8bee61"
   },
   "outputs": [
    {
     "name": "stderr",
     "output_type": "stream",
     "text": [
      "[nltk_data] Downloading package stopwords to\n",
      "[nltk_data]     /home/mikhail/nltk_data...\n",
      "[nltk_data]   Package stopwords is already up-to-date!\n",
      "[nltk_data] Downloading package punkt to /home/mikhail/nltk_data...\n",
      "[nltk_data]   Package punkt is already up-to-date!\n"
     ]
    }
   ],
   "source": [
    "import numpy as np\n",
    "import matplotlib.pyplot as plt\n",
    "from sklearn.model_selection import train_test_split\n",
    "from sklearn.pipeline import Pipeline\n",
    "from sklearn.feature_extraction.text import CountVectorizer, TfidfTransformer\n",
    "from sklearn.linear_model import SGDRegressor, Ridge\n",
    "from sklearn.metrics import mean_squared_error\n",
    "from tqdm.auto import tqdm\n",
    "import nltk\n",
    "from nltk.stem.snowball import SnowballStemmer\n",
    "from nltk.corpus import stopwords\n",
    "from nltk.tokenize import word_tokenize\n",
    "from string import punctuation\n",
    "from pymystem3 import Mystem\n",
    "from nltk.stem.snowball import SnowballStemmer\n",
    "nltk.download(\"stopwords\")\n",
    "nltk.download(\"punkt\")\n",
    "\n",
    "SEED = 1234\n",
    "np.random.seed(SEED)"
   ]
  },
  {
   "cell_type": "code",
   "execution_count": 2,
   "metadata": {
    "colab": {
     "base_uri": "https://localhost:8080/",
     "height": 69
    },
    "colab_type": "code",
    "id": "NuLO2_gy0s5e",
    "outputId": "724193c1-f6ae-46bd-a2b1-fd78149a2125"
   },
   "outputs": [
    {
     "name": "stdout",
     "output_type": "stream",
     "text": [
      "(20000,)\n",
      "Сериал очень люблю, но Академия и Земля вызывает у меня отторжение идеей... Не люблю, когда принижают ценность человека как личности, даже не смотря на ошибки личности...\n",
      "[ 6.  7. 10. ... 10. 10.  5.]\n"
     ]
    }
   ],
   "source": [
    "def read_data():\n",
    "    with open(\"scores_train.txt\") as f:\n",
    "        y = list(map(lambda x: float(x.strip()), f.read().strip().split('\\n')))\n",
    "    with open(\"texts_train.txt\") as f:\n",
    "        X = list(map(lambda x: x.strip(), f.read().strip().split('\\n')))\n",
    "    X = np.array(X)\n",
    "    y = np.array(y)\n",
    "    return X, y\n",
    "\n",
    "X, y = read_data()\n",
    "print(X.shape)\n",
    "print(X[0])\n",
    "print(y)"
   ]
  },
  {
   "cell_type": "code",
   "execution_count": 3,
   "metadata": {
    "colab": {
     "base_uri": "https://localhost:8080/",
     "height": 34
    },
    "colab_type": "code",
    "id": "BOpi8_3d16pB",
    "outputId": "8e2052dc-7907-42b7-a2f2-d45832cfea18"
   },
   "outputs": [
    {
     "name": "stdout",
     "output_type": "stream",
     "text": [
      "(17000,)\n"
     ]
    }
   ],
   "source": [
    "X_train, X_val, y_train, y_val = train_test_split(X, y, train_size=0.85)\n",
    "print(X_train.shape)"
   ]
  },
  {
   "cell_type": "code",
   "execution_count": 4,
   "metadata": {
    "colab": {},
    "colab_type": "code",
    "id": "uct9awbp2W5-"
   },
   "outputs": [],
   "source": [
    "def get_regressor():\n",
    "    return Pipeline([(\"vect\", CountVectorizer(ngram_range=(1,2))),\n",
    "                    (\"tfidf\", TfidfTransformer(sublinear_tf=True)),\n",
    "                    (\"sgd\", SGDRegressor(loss='squared_loss', penalty='l2', alpha=1e-4, max_iter=500))\n",
    "           ])\n",
    "\n",
    "def predict_with_regressor(regressor, X):\n",
    "  y_pred = regressor.predict(X)\n",
    "  y_pred = np.clip(y_pred, a_max=10, a_min=1)\n",
    "  y_pred = np.array(y_pred, dtype=np.int32)\n",
    "  return y_pred"
   ]
  },
  {
   "cell_type": "code",
   "execution_count": 5,
   "metadata": {
    "colab": {
     "base_uri": "https://localhost:8080/",
     "height": 399
    },
    "colab_type": "code",
    "id": "VqK2q5c82pYw",
    "outputId": "0e5fdef7-4eae-4d22-fcba-a56ebc93006f"
   },
   "outputs": [
    {
     "data": {
      "text/plain": [
       "Pipeline(memory=None,\n",
       "         steps=[('vect',\n",
       "                 CountVectorizer(analyzer='word', binary=False,\n",
       "                                 decode_error='strict',\n",
       "                                 dtype=<class 'numpy.int64'>, encoding='utf-8',\n",
       "                                 input='content', lowercase=True, max_df=1.0,\n",
       "                                 max_features=None, min_df=1,\n",
       "                                 ngram_range=(1, 2), preprocessor=None,\n",
       "                                 stop_words=None, strip_accents=None,\n",
       "                                 token_pattern='(?u)\\\\b\\\\w\\\\w+\\\\b',\n",
       "                                 tokenizer=None, vocabulary=Non...\n",
       "                                  use_idf=True)),\n",
       "                ('sgd',\n",
       "                 SGDRegressor(alpha=0.0001, average=False, early_stopping=False,\n",
       "                              epsilon=0.1, eta0=0.01, fit_intercept=True,\n",
       "                              l1_ratio=0.15, learning_rate='invscaling',\n",
       "                              loss='squared_loss', max_iter=500,\n",
       "                              n_iter_no_change=5, penalty='l2', power_t=0.25,\n",
       "                              random_state=None, shuffle=True, tol=0.001,\n",
       "                              validation_fraction=0.1, verbose=0,\n",
       "                              warm_start=False))],\n",
       "         verbose=False)"
      ]
     },
     "execution_count": 5,
     "metadata": {},
     "output_type": "execute_result"
    }
   ],
   "source": [
    "regressor = get_regressor()\n",
    "regressor.fit(X_train, y_train)"
   ]
  },
  {
   "cell_type": "code",
   "execution_count": 6,
   "metadata": {
    "colab": {
     "base_uri": "https://localhost:8080/",
     "height": 369
    },
    "colab_type": "code",
    "id": "IUDef1rK236I",
    "outputId": "9c329bab-4ad0-4af9-f829-fefab4ccb32a"
   },
   "outputs": [
    {
     "name": "stdout",
     "output_type": "stream",
     "text": [
      "1.8879961365862765\n",
      "1.96680790453296\n"
     ]
    },
    {
     "data": {
      "text/plain": [
       "(array([1.000e+00, 0.000e+00, 6.000e+00, 2.700e+01, 0.000e+00, 3.220e+02,\n",
       "        1.137e+03, 1.002e+03, 3.990e+02, 1.060e+02]),\n",
       " array([ 2. ,  2.8,  3.6,  4.4,  5.2,  6. ,  6.8,  7.6,  8.4,  9.2, 10. ]),\n",
       " <a list of 10 Patch objects>)"
      ]
     },
     "execution_count": 6,
     "metadata": {},
     "output_type": "execute_result"
    },
    {
     "data": {
      "image/png": "[encoded data removed]",
      "text/plain": [
       "<Figure size 432x288 with 1 Axes>"
      ]
     },
     "metadata": {
      "needs_background": "light"
     },
     "output_type": "display_data"
    }
   ],
   "source": [
    "y_pred_train = predict_with_regressor(regressor, X_train)\n",
    "y_pred_val = predict_with_regressor(regressor, X_val)\n",
    "print(mean_squared_error(y_pred_train, y_train) ** 0.5)\n",
    "print(mean_squared_error(y_pred_val, y_val) ** 0.5)\n",
    "plt.hist(y_pred_val)"
   ]
  },
  {
   "cell_type": "code",
   "execution_count": 7,
   "metadata": {
    "colab": {},
    "colab_type": "code",
    "id": "4muhcWx_3osH"
   },
   "outputs": [],
   "source": [
    "def read_test_data():\n",
    "  with open('test.txt') as test_file:\n",
    "    X = list(map(lambda x: x.strip(), test_file.read().strip().split('\\n')))\n",
    "  return np.array(X)\n",
    "\n",
    "def write_output(y_pred):\n",
    "  with open('out.txt', 'w') as out_file:\n",
    "    for i in range(y_pred.shape[0]):\n",
    "      out_file.write(str(y_pred[i]) + \"\\n\")\n",
    "\n",
    "def predict_test_regressor(regressor):\n",
    "  X_test = read_test_data()\n",
    "  y_pred = predict_with_regressor(regressor, X_test)\n",
    "  write_output(y_pred)"
   ]
  },
  {
   "cell_type": "code",
   "execution_count": 8,
   "metadata": {
    "colab": {},
    "colab_type": "code",
    "id": "FJw06qG75Xzl"
   },
   "outputs": [],
   "source": [
    "predict_test_regressor(regressor)"
   ]
  },
  {
   "cell_type": "markdown",
   "metadata": {
    "colab_type": "text",
    "id": "60CF4lSF50Mb"
   },
   "source": [
    "# Let's check Stemming"
   ]
  },
  {
   "cell_type": "code",
   "execution_count": 9,
   "metadata": {
    "colab": {},
    "colab_type": "code",
    "id": "lLpwn31m6SLz"
   },
   "outputs": [],
   "source": [
    "STEMMER = SnowballStemmer(\"russian\") \n",
    "\n",
    "def get_lemma_regressor(lemma_func, regression=SGDRegressor(loss='squared_loss', penalty='l2', alpha=1e-4, max_iter=500)):\n",
    "  analyzer = CountVectorizer(ngram_range=(1,2)).build_analyzer()\n",
    "\n",
    "  def stemmed_words(doc):\n",
    "      return (lemma_func(w) for w in analyzer(doc))\n",
    "\n",
    "  stem_vectorizer = CountVectorizer(ngram_range=(1,2), analyzer=stemmed_words)\n",
    "  return Pipeline([(\"vect\", stem_vectorizer),\n",
    "                (\"tfidf\", TfidfTransformer(sublinear_tf=True)),\n",
    "                (\"sgd\", regression)\n",
    "        ])"
   ]
  },
  {
   "cell_type": "code",
   "execution_count": 10,
   "metadata": {
    "colab": {
     "base_uri": "https://localhost:8080/",
     "height": 382
    },
    "colab_type": "code",
    "id": "VDdEvnDL8gGr",
    "outputId": "3e309ae4-517e-44b5-a66c-29c73637fea0"
   },
   "outputs": [
    {
     "data": {
      "text/plain": [
       "Pipeline(memory=None,\n",
       "         steps=[('vect',\n",
       "                 CountVectorizer(analyzer=<function get_lemma_regressor.<locals>.stemmed_words at 0x7f81b756b950>,\n",
       "                                 binary=False, decode_error='strict',\n",
       "                                 dtype=<class 'numpy.int64'>, encoding='utf-8',\n",
       "                                 input='content', lowercase=True, max_df=1.0,\n",
       "                                 max_features=None, min_df=1,\n",
       "                                 ngram_range=(1, 2), preprocessor=None,\n",
       "                                 stop_words=None, strip_accents=None,\n",
       "                                 t...\n",
       "                                  use_idf=True)),\n",
       "                ('sgd',\n",
       "                 SGDRegressor(alpha=0.0001, average=False, early_stopping=False,\n",
       "                              epsilon=0.1, eta0=0.01, fit_intercept=True,\n",
       "                              l1_ratio=0.15, learning_rate='invscaling',\n",
       "                              loss='squared_loss', max_iter=500,\n",
       "                              n_iter_no_change=5, penalty='l2', power_t=0.25,\n",
       "                              random_state=None, shuffle=True, tol=0.001,\n",
       "                              validation_fraction=0.1, verbose=0,\n",
       "                              warm_start=False))],\n",
       "         verbose=False)"
      ]
     },
     "execution_count": 10,
     "metadata": {},
     "output_type": "execute_result"
    }
   ],
   "source": [
    "lemma_regressor = get_lemma_regressor(STEMMER.stem)\n",
    "lemma_regressor.fit(X_train, y_train)"
   ]
  },
  {
   "cell_type": "code",
   "execution_count": 11,
   "metadata": {
    "colab": {
     "base_uri": "https://localhost:8080/",
     "height": 352
    },
    "colab_type": "code",
    "id": "H2BUfSbL8on-",
    "outputId": "ec633188-51dd-4d82-db2b-0d0e242c30ed"
   },
   "outputs": [
    {
     "name": "stdout",
     "output_type": "stream",
     "text": [
      "1.8407798858731845\n",
      "1.9030676989184243\n"
     ]
    },
    {
     "data": {
      "text/plain": [
       "(array([  4.,   0.,   9.,  57.,   0., 392., 939., 934., 491., 174.]),\n",
       " array([ 2. ,  2.8,  3.6,  4.4,  5.2,  6. ,  6.8,  7.6,  8.4,  9.2, 10. ]),\n",
       " <a list of 10 Patch objects>)"
      ]
     },
     "execution_count": 11,
     "metadata": {},
     "output_type": "execute_result"
    },
    {
     "data": {
      "image/png": "[encoded data removed]",
      "text/plain": [
       "<Figure size 432x288 with 1 Axes>"
      ]
     },
     "metadata": {
      "needs_background": "light"
     },
     "output_type": "display_data"
    }
   ],
   "source": [
    "y_pred_train = predict_with_regressor(lemma_regressor, X_train)\n",
    "y_pred_val = predict_with_regressor(lemma_regressor, X_val)\n",
    "print(mean_squared_error(y_pred_train, y_train) ** 0.5)\n",
    "print(mean_squared_error(y_pred_val, y_val) ** 0.5)\n",
    "plt.hist(y_pred_val)"
   ]
  },
  {
   "cell_type": "code",
   "execution_count": 12,
   "metadata": {
    "colab": {},
    "colab_type": "code",
    "id": "gc3xMotr8y4d"
   },
   "outputs": [],
   "source": [
    "predict_test_regressor(lemma_regressor)"
   ]
  },
  {
   "cell_type": "markdown",
   "metadata": {},
   "source": [
    "# Mystem"
   ]
  },
  {
   "cell_type": "code",
   "execution_count": 13,
   "metadata": {
    "colab": {},
    "colab_type": "code",
    "id": "WFoJ-IO--IJd"
   },
   "outputs": [
    {
     "data": {
      "text/plain": [
       "'пойти'"
      ]
     },
     "execution_count": 13,
     "metadata": {},
     "output_type": "execute_result"
    }
   ],
   "source": [
    "MYSTEM = Mystem()\n",
    "mystem_lemma_func = lambda x: MYSTEM.lemmatize(x)[0]\n",
    "mystem_lemma_func('пошел')"
   ]
  },
  {
   "cell_type": "code",
   "execution_count": 14,
   "metadata": {},
   "outputs": [
    {
     "data": {
      "text/plain": [
       "Pipeline(memory=None,\n",
       "         steps=[('vect',\n",
       "                 CountVectorizer(analyzer=<function get_lemma_regressor.<locals>.stemmed_words at 0x7f80f3091620>,\n",
       "                                 binary=False, decode_error='strict',\n",
       "                                 dtype=<class 'numpy.int64'>, encoding='utf-8',\n",
       "                                 input='content', lowercase=True, max_df=1.0,\n",
       "                                 max_features=None, min_df=1,\n",
       "                                 ngram_range=(1, 2), preprocessor=None,\n",
       "                                 stop_words=None, strip_accents=None,\n",
       "                                 t...\n",
       "                                  use_idf=True)),\n",
       "                ('sgd',\n",
       "                 SGDRegressor(alpha=0.0001, average=False, early_stopping=False,\n",
       "                              epsilon=0.1, eta0=0.01, fit_intercept=True,\n",
       "                              l1_ratio=0.15, learning_rate='invscaling',\n",
       "                              loss='squared_loss', max_iter=500,\n",
       "                              n_iter_no_change=5, penalty='l2', power_t=0.25,\n",
       "                              random_state=None, shuffle=True, tol=0.001,\n",
       "                              validation_fraction=0.1, verbose=0,\n",
       "                              warm_start=False))],\n",
       "         verbose=False)"
      ]
     },
     "execution_count": 14,
     "metadata": {},
     "output_type": "execute_result"
    }
   ],
   "source": [
    "lemma_regressor = get_lemma_regressor(mystem_lemma_func)\n",
    "lemma_regressor.fit(X_train, y_train)"
   ]
  },
  {
   "cell_type": "code",
   "execution_count": 15,
   "metadata": {},
   "outputs": [
    {
     "name": "stdout",
     "output_type": "stream",
     "text": [
      "1.8530737580952292\n",
      "1.9561867668161612\n"
     ]
    },
    {
     "data": {
      "text/plain": [
       "(array([  1.,   9.,  30., 143.,   0., 615., 934., 747., 362., 159.]),\n",
       " array([ 2. ,  2.8,  3.6,  4.4,  5.2,  6. ,  6.8,  7.6,  8.4,  9.2, 10. ]),\n",
       " <a list of 10 Patch objects>)"
      ]
     },
     "execution_count": 15,
     "metadata": {},
     "output_type": "execute_result"
    },
    {
     "data": {
      "image/png": "[encoded data removed]",
      "text/plain": [
       "<Figure size 432x288 with 1 Axes>"
      ]
     },
     "metadata": {
      "needs_background": "light"
     },
     "output_type": "display_data"
    }
   ],
   "source": [
    "y_pred_train = predict_with_regressor(lemma_regressor, X_train)\n",
    "y_pred_val = predict_with_regressor(lemma_regressor, X_val)\n",
    "print(mean_squared_error(y_pred_train, y_train) ** 0.5)\n",
    "print(mean_squared_error(y_pred_val, y_val) ** 0.5)\n",
    "plt.hist(y_pred_val)"
   ]
  },
  {
   "cell_type": "code",
   "execution_count": 16,
   "metadata": {},
   "outputs": [],
   "source": [
    "predict_test_regressor(lemma_regressor)"
   ]
  },
  {
   "cell_type": "markdown",
   "metadata": {},
   "source": [
    "# Mystem + StopWords + Punctuation"
   ]
  },
  {
   "cell_type": "code",
   "execution_count": 17,
   "metadata": {},
   "outputs": [],
   "source": [
    "STOP_WORDS = stopwords.words('russian')\n",
    "STOP_WORDS.extend(['что', 'это', 'так', 'вот', 'быть', 'как', 'в', '—', '–', 'к', 'на', '...'])"
   ]
  },
  {
   "cell_type": "code",
   "execution_count": 18,
   "metadata": {},
   "outputs": [],
   "source": [
    "def get_lemma_regressor_uni_stop(lemma_func, regression=SGDRegressor(loss='squared_loss', penalty='l2', alpha=1e-4, max_iter=500)):\n",
    "  analyzer = CountVectorizer(ngram_range=(1,2)).build_analyzer()\n",
    "\n",
    "  def stemmed_words(doc):\n",
    "      return (lemma_func(w) for w in analyzer(doc) if w not in punctuation and w not in STOP_WORDS)\n",
    "\n",
    "  stem_vectorizer = CountVectorizer(ngram_range=(1,1), analyzer=stemmed_words, stop_words=STOP_WORDS)\n",
    "  return Pipeline([(\"vect\", stem_vectorizer),\n",
    "                (\"tfidf\", TfidfTransformer(sublinear_tf=True)),\n",
    "                (\"sgd\", regression)\n",
    "        ])"
   ]
  },
  {
   "cell_type": "code",
   "execution_count": 19,
   "metadata": {},
   "outputs": [
    {
     "data": {
      "text/plain": [
       "Pipeline(memory=None,\n",
       "         steps=[('vect',\n",
       "                 CountVectorizer(analyzer=<function get_lemma_regressor_uni_stop.<locals>.stemmed_words at 0x7f80f305ebf8>,\n",
       "                                 binary=False, decode_error='strict',\n",
       "                                 dtype=<class 'numpy.int64'>, encoding='utf-8',\n",
       "                                 input='content', lowercase=True, max_df=1.0,\n",
       "                                 max_features=None, min_df=1,\n",
       "                                 ngram_range=(1, 1), preprocessor=None,\n",
       "                                 stop_words=['и', 'в', 'во', 'н...\n",
       "                                             'вы', 'за', 'бы', 'по', 'только',\n",
       "                                             'ее', 'мне', ...],\n",
       "                                 strip_accents=None,\n",
       "                                 token_pattern='(?u)\\\\b\\\\w\\\\w+\\\\b',\n",
       "                                 tokenizer=None, vocabulary=None)),\n",
       "                ('tfidf',\n",
       "                 TfidfTransformer(norm='l2', smooth_idf=True, sublinear_tf=True,\n",
       "                                  use_idf=True)),\n",
       "                ('sgd',\n",
       "                 Ridge(alpha=1.0, copy_X=True, fit_intercept=True,\n",
       "                       max_iter=None, normalize=False, random_state=None,\n",
       "                       solver='auto', tol=0.001))],\n",
       "         verbose=False)"
      ]
     },
     "execution_count": 19,
     "metadata": {},
     "output_type": "execute_result"
    }
   ],
   "source": [
    "lemma_regressor = get_lemma_regressor_uni_stop(mystem_lemma_func, Ridge())\n",
    "lemma_regressor.fit(X_train, y_train)"
   ]
  },
  {
   "cell_type": "code",
   "execution_count": 20,
   "metadata": {},
   "outputs": [
    {
     "name": "stdout",
     "output_type": "stream",
     "text": [
      "1.8298451664917808\n"
     ]
    },
    {
     "data": {
      "text/plain": [
       "(array([  3.,  13.,  26.,  89., 182., 427., 732., 850., 552., 126.]),\n",
       " array([ 1. ,  1.9,  2.8,  3.7,  4.6,  5.5,  6.4,  7.3,  8.2,  9.1, 10. ]),\n",
       " <a list of 10 Patch objects>)"
      ]
     },
     "execution_count": 20,
     "metadata": {},
     "output_type": "execute_result"
    },
    {
     "data": {
      "image/png": "[encoded data removed]",
      "text/plain": [
       "<Figure size 432x288 with 1 Axes>"
      ]
     },
     "metadata": {
      "needs_background": "light"
     },
     "output_type": "display_data"
    }
   ],
   "source": [
    "#y_pred_train = predict_with_regressor(lemma_regressor, X_train)\n",
    "y_pred_val = predict_with_regressor(lemma_regressor, X_val)\n",
    "#print(mean_squared_error(y_pred_train, y_train) ** 0.5)\n",
    "print(mean_squared_error(y_pred_val, y_val) ** 0.5)\n",
    "plt.hist(y_pred_val)"
   ]
  },
  {
   "cell_type": "code",
   "execution_count": 21,
   "metadata": {},
   "outputs": [],
   "source": [
    "predict_test_regressor(lemma_regressor)"
   ]
  },
  {
   "cell_type": "code",
   "execution_count": null,
   "metadata": {},
   "outputs": [],
   "source": []
  }
 ],
 "metadata": {
  "colab": {
   "name": "HW_02_Regression.ipynb",
   "provenance": []
  },
  "kernelspec": {
   "display_name": "Python 3",
   "language": "python",
   "name": "python3"
  },
  "language_info": {
   "codemirror_mode": {
    "name": "ipython",
    "version": 3
   },
   "file_extension": ".py",
   "mimetype": "text/x-python",
   "name": "python",
   "nbconvert_exporter": "python",
   "pygments_lexer": "ipython3",
   "version": "3.6.9"
  }
 },
 "nbformat": 4,
 "nbformat_minor": 1
}
